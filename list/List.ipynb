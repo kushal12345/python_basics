{
 "cells": [
  {
   "cell_type": "markdown",
   "metadata": {},
   "source": [
    "<h1 style = \"text-align: center\">List</h1>"
   ]
  },
  {
   "cell_type": "markdown",
   "metadata": {},
   "source": [
    "<div style = \"font-family: 'Roboto Slab' \">List is a mutable sequential/ordered data structure. List can be broadly categorised into Linear and non linera types. Linear list are stack(FIFO) and queue(LIFO). Non-Linear list are graph and trees. \n",
    "The examples of List are given below with few implementations: </div>"
   ]
  },
  {
   "cell_type": "markdown",
   "metadata": {},
   "source": [
    "<h4> 1. List of your favorite band. </h4>"
   ]
  },
  {
   "cell_type": "code",
   "execution_count": 14,
   "metadata": {},
   "outputs": [],
   "source": [
    "bands_ilove = ['Pink Floyd', 'Dream Theater', 'Megadeth', 'Queen']"
   ]
  },
  {
   "cell_type": "markdown",
   "metadata": {},
   "source": [
    "<h4> 2. Keep bucketlist of things you want to do. </h4>"
   ]
  },
  {
   "cell_type": "code",
   "execution_count": 1,
   "metadata": {},
   "outputs": [],
   "source": [
    "bucketlist = ['Go Antartica', 'Fly off the plane']"
   ]
  },
  {
   "cell_type": "markdown",
   "metadata": {},
   "source": [
    "<h4> 3. Reverse order of alphabet of alphabet using list as stack. </h4>\n",
    "In python implementation example below, we implement mylist as stack. <strong>List comprehension</strong> is also implemented. "
   ]
  },
  {
   "cell_type": "code",
   "execution_count": 2,
   "metadata": {},
   "outputs": [],
   "source": [
    "mystring = 'this is my string'\n",
    "mylist = list(mystring)\n",
    "r = [mylist.pop() for i in range(len(mylist)-1)]   "
   ]
  },
  {
   "cell_type": "code",
   "execution_count": 3,
   "metadata": {},
   "outputs": [
    {
     "data": {
      "text/plain": [
       "['g',\n",
       " 'n',\n",
       " 'i',\n",
       " 'r',\n",
       " 't',\n",
       " 's',\n",
       " ' ',\n",
       " 'y',\n",
       " 'm',\n",
       " ' ',\n",
       " 's',\n",
       " 'i',\n",
       " ' ',\n",
       " 's',\n",
       " 'i',\n",
       " 'h']"
      ]
     },
     "execution_count": 3,
     "metadata": {},
     "output_type": "execute_result"
    }
   ],
   "source": [
    "r"
   ]
  },
  {
   "cell_type": "markdown",
   "metadata": {},
   "source": [
    "<h4> 3. Using stack for converting infix to postfix </h4>\n",
    "<p> Implementation of stack for this conversion is given below:</p>"
   ]
  },
  {
   "cell_type": "code",
   "execution_count": 1,
   "metadata": {},
   "outputs": [],
   "source": [
    "class Op():\n",
    "    def __init__(self):\n",
    "        self.operator_stack =[]\n",
    "        self.output_queue =[]\n",
    "        self.op_priority = {\n",
    "            '(':1,\n",
    "            '+':2,\n",
    "            '-':2,\n",
    "            '/':3,\n",
    "            '*':4   \n",
    "        }"
   ]
  },
  {
   "cell_type": "code",
   "execution_count": 2,
   "metadata": {},
   "outputs": [],
   "source": [
    "class Postfix(Op):\n",
    "    def __init__(self, expression):\n",
    "        super().__init__()\n",
    "        self.expression = expression\n",
    "        \n",
    "    def in_to_postfix(self):\n",
    "        \n",
    "        for i in self.expression:\n",
    "            \n",
    "            #check for integers/alphabet and append them in output\n",
    "            if i in '0123456789' and 'abcdefghijklmnopqrstuvwxyz':\n",
    "                self.output_queue.append(i)\n",
    "                \n",
    "            #push opening of bracket in operator_stack\n",
    "            elif i =='(':\n",
    "                self.operator_stack.append('(')\n",
    "                \n",
    "            #pop operators from operator_stack and append them in output until opening of bracket is found\n",
    "            elif i ==')':\n",
    "                while self.operator_stack[-1] != '(':\n",
    "                    self.output_queue.append(self.operator_stack.pop())\n",
    "                self.operator_stack.pop()\n",
    "                \n",
    "            #for operators\n",
    "            else:\n",
    "                #when operator_stack is empty\n",
    "                if not self.operator_stack:\n",
    "                    self.operator_stack.append(i)\n",
    "                    \n",
    "                #when priority of operator at top of stack is lower than that of new operator\n",
    "                elif self.op_priority[self.operator_stack[-1]]<self.op_priority[i]:\n",
    "                    self.operator_stack.append(i)\n",
    "                    \n",
    "                #when priority of operator at top of stack is higher than that of new operator\n",
    "                else:\n",
    "                    while self.operator_stack and self.op_priority[self.operator_stack[-1]]>= \\\n",
    "                    self.operator_stack[i] and self.operator_stack[-1]!='(':\n",
    "                        self.output_queue.append(self.operator_stack.pop())\n",
    "                    self.operator_stack.append(i)\n",
    "                    \n",
    "        while self.operator_stack:\n",
    "            self.output_queue.append(self.operator_stack.pop())\n",
    "        \n",
    "            \n",
    "    def output(self):\n",
    "        self.in_to_postfix()\n",
    "        return self.output_queue"
   ]
  },
  {
   "cell_type": "code",
   "execution_count": 4,
   "metadata": {},
   "outputs": [
    {
     "data": {
      "text/plain": [
       "['1', '2', '+', '3', '-', '3', '5', '+', '*']"
      ]
     },
     "execution_count": 4,
     "metadata": {},
     "output_type": "execute_result"
    }
   ],
   "source": [
    "p = Postfix('((1+2)-3)*(3+5)')\n",
    "\n",
    "p.output()"
   ]
  },
  {
   "cell_type": "markdown",
   "metadata": {},
   "source": [
    "<h4>4. Uses List as Queue to store nodes in Breadth First search Algorithm </h4>"
   ]
  },
  {
   "cell_type": "code",
   "execution_count": null,
   "metadata": {},
   "outputs": [],
   "source": [
    "#Program"
   ]
  },
  {
   "cell_type": "markdown",
   "metadata": {},
   "source": [
    "<h4> 6. Wearing bangles in hand as stack </h4>"
   ]
  },
  {
   "cell_type": "markdown",
   "metadata": {},
   "source": [
    "<h4>7. Store Product Id in cart at e-commerce website </h4>\n"
   ]
  },
  {
   "cell_type": "markdown",
   "metadata": {},
   "source": [
    "<h4> 8. Store runs scored in cricket to display for all overs</h5>"
   ]
  },
  {
   "cell_type": "markdown",
   "metadata": {},
   "source": [
    "<h4> 9. Store books in library. </h4>"
   ]
  },
  {
   "cell_type": "markdown",
   "metadata": {},
   "source": [
    "<h4> 10. undo or redo operation in word processors </h4>"
   ]
  },
  {
   "cell_type": "code",
   "execution_count": null,
   "metadata": {},
   "outputs": [],
   "source": []
  }
 ],
 "metadata": {
  "kernelspec": {
   "display_name": "Python [conda root]",
   "language": "python",
   "name": "conda-root-py"
  },
  "language_info": {
   "codemirror_mode": {
    "name": "ipython",
    "version": 3
   },
   "file_extension": ".py",
   "mimetype": "text/x-python",
   "name": "python",
   "nbconvert_exporter": "python",
   "pygments_lexer": "ipython3",
   "version": "3.5.4"
  }
 },
 "nbformat": 4,
 "nbformat_minor": 2
}
