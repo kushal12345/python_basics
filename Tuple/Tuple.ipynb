{
 "cells": [
  {
   "cell_type": "markdown",
   "metadata": {},
   "source": [
    "<h1 style = \"text-align: center\">Tuple</h1>"
   ]
  },
  {
   "cell_type": "markdown",
   "metadata": {},
   "source": [
    "<p> <strong> Tuple is non-mutable sequential/ordered data structure. </strong> Tuple is often confused with non-mutable list but they also have different use case scenarios. One of the common answers on internet about list vs tuple is tuples usually are used for heterogeneous data and List for homogeneous data. The homogenous/heterogenous distinction is really about the semantics of the data, not just the types. A sequence of a name, occupation, and address would probably be considered heterogenous, even though all three might be represented as strings. So it's more important to think about what you're going to do with the data (i.e., will you actually treat the elements the same) than about what types they are. For Example: </p>"
   ]
  },
  {
   "cell_type": "code",
   "execution_count": 2,
   "metadata": {},
   "outputs": [],
   "source": [
    "person = ('suraj','regmi', 'Gongabu', '981234550')"
   ]
  },
  {
   "cell_type": "markdown",
   "metadata": {},
   "source": [
    "In above example, the first element of tuple provides information that first item is first name of person and accordingly beside the value of item. Thus, sorting tuple makes little sense from use case perspective. So, tuple is considered structure while list is simple ordered data structure."
   ]
  },
  {
   "cell_type": "markdown",
   "metadata": {},
   "source": [
    "<strong>Another important feature is that items in tuple are hashable </strong> and it can be used as <strong>dictionary key </strong>. so in such scenarios, one must use tuple even if all the elements are homogenous in nature. For Example:"
   ]
  },
  {
   "cell_type": "code",
   "execution_count": 4,
   "metadata": {},
   "outputs": [],
   "source": [
    "person_name = ('Rajan','Sapkota')\n",
    "gender = {person_name : 'male'}"
   ]
  },
  {
   "cell_type": "markdown",
   "metadata": {},
   "source": [
    "One of the most common use of tuple is in scenarios where data are fixed and have predetermined meanings.For Example:"
   ]
  },
  {
   "cell_type": "code",
   "execution_count": 16,
   "metadata": {},
   "outputs": [],
   "source": [
    "days = ('sunday', 'monday', 'tuesday', 'wednesday', 'thursday', 'friday', 'saturday')"
   ]
  },
  {
   "cell_type": "code",
   "execution_count": 12,
   "metadata": {},
   "outputs": [],
   "source": [
    "coordinate = ('41°24\\'12.2\\\"N', '2°10\\'26.5\\\"E')"
   ]
  },
  {
   "cell_type": "markdown",
   "metadata": {},
   "source": [
    "In this example, you are expecting latitude and longitude. The fixed nature of this data is expected and critical. The benefit of this is unchangeable nature:\n",
    "1. You are never surprised to find a value missing. coordinate will always has two values. \n",
    "2. You are never surprised to find something added. Unlike a dictionary, another bit of code can't \"add a new key\" or attribute\n",
    "\n",
    "<strong> Hence, the immutability nature of tuple. </strong>\n"
   ]
  },
  {
   "cell_type": "markdown",
   "metadata": {},
   "source": [
    "Tuples can be used for storing information about certain object in real life at certain fixed/immutable order. For Example:"
   ]
  },
  {
   "cell_type": "code",
   "execution_count": 17,
   "metadata": {},
   "outputs": [],
   "source": [
    "phone = ('Samsung', 'S8', '5.80-inch', '1.9GHz octa-core')"
   ]
  },
  {
   "cell_type": "markdown",
   "metadata": {},
   "source": [
    "The same thing can be represented in dictionary as follows:"
   ]
  },
  {
   "cell_type": "code",
   "execution_count": 18,
   "metadata": {},
   "outputs": [],
   "source": [
    "phone = {\n",
    "    'brand': 'Samsung',\n",
    "    'model' : 'S8',\n",
    "    'Display' : '5.80-inch',\n",
    "    'Processor': '1.9GHz octa-core'\n",
    "}"
   ]
  },
  {
   "cell_type": "markdown",
   "metadata": {},
   "source": [
    "Tuple is lightweight while dictionary is more readable. The readability problem of tuple can be solved using <strong>namedtuple</strong>. The namedtuple implementation of above example is as follow:"
   ]
  },
  {
   "cell_type": "code",
   "execution_count": 25,
   "metadata": {},
   "outputs": [],
   "source": [
    "from collections import namedtuple"
   ]
  },
  {
   "cell_type": "code",
   "execution_count": 33,
   "metadata": {},
   "outputs": [
    {
     "name": "stdout",
     "output_type": "stream",
     "text": [
      "brand: samsung\n",
      "Model: S8\n"
     ]
    }
   ],
   "source": [
    "phone = namedtuple('phone', ['brand','model','Display','Processor'])\n",
    "my_phone = phone('samsung','S8', '5.80-inch', '1.9GHzocta-core')\n",
    "print('brand: {}'.format(my_phone.brand))\n",
    "print('Model: {}'.format(my_phone.model))"
   ]
  },
  {
   "cell_type": "markdown",
   "metadata": {},
   "source": [
    "NamedTuple are also ordered unlike dictionary. They are lightweight object type. you should use named tuples instead of tuples anywhere you think object notation will make your code more pythonic and more easily readable."
   ]
  },
  {
   "cell_type": "markdown",
   "metadata": {},
   "source": [
    "Some of the other examples of use of tuple are as follows:\n",
    "    \n",
    "    1. passing argument to function and returning value from function\n",
    "    2. Store page and line number of a book in tuple to bookmark some information.\n",
    "    3. Store songs of an album\n",
    "    "
   ]
  },
  {
   "cell_type": "code",
   "execution_count": null,
   "metadata": {},
   "outputs": [],
   "source": []
  }
 ],
 "metadata": {
  "kernelspec": {
   "display_name": "Python 3",
   "language": "python",
   "name": "python3"
  },
  "language_info": {
   "codemirror_mode": {
    "name": "ipython",
    "version": 3
   },
   "file_extension": ".py",
   "mimetype": "text/x-python",
   "name": "python",
   "nbconvert_exporter": "python",
   "pygments_lexer": "ipython3",
   "version": "3.6.5"
  }
 },
 "nbformat": 4,
 "nbformat_minor": 2
}
