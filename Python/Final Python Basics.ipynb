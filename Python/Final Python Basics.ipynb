{
 "cells": [
  {
   "cell_type": "markdown",
   "metadata": {
    "colab_type": "text",
    "id": "T7QHqZuL2nVI"
   },
   "source": [
    "# Python Basics"
   ]
  },
  {
   "cell_type": "markdown",
   "metadata": {},
   "source": [
    "# Why python for AI ?\n",
    "- Syntax\n",
    "- Fast Prototyping \n",
    "\n",
    "\n",
    "\n",
    "- Prebuilt Libraries (numpy, pandas, scikit, etc)\n",
    "- numpy - mathematical calculations\n",
    "- pandas -  data analysis\n",
    "- matplotlib - visualizations\n",
    "- Tensorflow -ML\n",
    "\n",
    "\n",
    "- COMMUNITY SUPPORT like python weekly, 10 thousand python developersetc.\n",
    "\n"
   ]
  },
  {
   "cell_type": "markdown",
   "metadata": {
    "colab_type": "text",
    "id": "lD6tWdWK2nVR"
   },
   "source": [
    "## Printing\n",
    "Printing can be done by using **print** followed by the entity to print."
   ]
  },
  {
   "cell_type": "code",
   "execution_count": 1,
   "metadata": {
    "colab": {
     "autoexec": {
      "startup": false,
      "wait_interval": 0
     },
     "base_uri": "https://localhost:8080/",
     "height": 119
    },
    "colab_type": "code",
    "executionInfo": {
     "elapsed": 7832,
     "status": "ok",
     "timestamp": 1525235538285,
     "user": {
      "displayName": "Nama Budda",
      "photoUrl": "//lh3.googleusercontent.com/-bs8EIri6whU/AAAAAAAAAAI/AAAAAAAAFOA/2worzW5Poi0/s50-c-k-no/photo.jpg",
      "userId": "103954825905713429993"
     },
     "user_tz": -345
    },
    "id": "TKlR-wy52nVX",
    "outputId": "921e3177-1a55-4b7e-f645-5d8af7b1dede",
    "scrolled": true
   },
   "outputs": [
    {
     "name": "stdout",
     "output_type": "stream",
     "text": [
      "5\n",
      "Hello World\n",
      "True\n"
     ]
    }
   ],
   "source": [
    "print(5)\n",
    "print('Hello World')\n",
    "print(True)"
   ]
  },
  {
   "cell_type": "markdown",
   "metadata": {},
   "source": [
    "If you want to print multiple items in same line, you can use a comma **,**."
   ]
  },
  {
   "cell_type": "code",
   "execution_count": 2,
   "metadata": {},
   "outputs": [
    {
     "name": "stdout",
     "output_type": "stream",
     "text": [
      "5 7 15 a\n"
     ]
    }
   ],
   "source": [
    "print(5, 7, 15, \"a\")"
   ]
  },
  {
   "cell_type": "markdown",
   "metadata": {
    "colab_type": "text",
    "id": "PS9GKsLq2nV2"
   },
   "source": [
    "## Variable Naming\n",
    "Variables are entities or location used to store values of any kind.  Are \n",
    "* Can begin with alphabets a-z or A-Z or _\n",
    "* Can contain numbers but not as the first letter\n",
    "* Are case-sensitive  \n",
    "\n",
    "*There are some **keywords** reserved in python which should not be used such as **print**, **type**, **in**, **sum**, **len**. If they are used as variable names, the program might not function properly.*"
   ]
  },
  {
   "cell_type": "code",
   "execution_count": 3,
   "metadata": {
    "colab": {
     "autoexec": {
      "startup": false,
      "wait_interval": 0
     },
     "base_uri": "https://localhost:8080/",
     "height": 119
    },
    "colab_type": "code",
    "executionInfo": {
     "elapsed": 954,
     "status": "ok",
     "timestamp": 1525235549794,
     "user": {
      "displayName": "Nama Budda",
      "photoUrl": "//lh3.googleusercontent.com/-bs8EIri6whU/AAAAAAAAAAI/AAAAAAAAFOA/2worzW5Poi0/s50-c-k-no/photo.jpg",
      "userId": "103954825905713429993"
     },
     "user_tz": -345
    },
    "id": "hCbnOL172nV3",
    "outputId": "7cffdcfa-84d9-4ac0-e54a-6b01e107cce3"
   },
   "outputs": [],
   "source": [
    "a = 1\n",
    "A = 13\n",
    "#1_a1 = 5\n",
    "x_y = 10\n",
    "b = 'apples'"
   ]
  },
  {
   "cell_type": "code",
   "execution_count": 4,
   "metadata": {
    "scrolled": false
   },
   "outputs": [
    {
     "name": "stdout",
     "output_type": "stream",
     "text": [
      "1\n",
      "13\n"
     ]
    }
   ],
   "source": [
    "print(a)\n",
    "print(A)"
   ]
  },
  {
   "cell_type": "markdown",
   "metadata": {},
   "source": [
    "## Functions\n",
    "Properties of Functions in python:\n",
    "\n",
    "* Are defined using the keyword **def**\n",
    "* May or may not return 1 or more values\n",
    "* Use keyword **return** to return values\n",
    "* Do not use curly brackets or semicolon like in other languages\n",
    "* Use indentation to separate blocks\n",
    "\n",
    "*P.S. Do not forget the colon **:** in the end of the line in which def keyword is used.*"
   ]
  },
  {
   "cell_type": "markdown",
   "metadata": {},
   "source": [
    "Function with no parameters"
   ]
  },
  {
   "cell_type": "code",
   "execution_count": 8,
   "metadata": {},
   "outputs": [],
   "source": [
    "def abc():\n",
    "    print(10)"
   ]
  },
  {
   "cell_type": "code",
   "execution_count": 9,
   "metadata": {},
   "outputs": [
    {
     "name": "stdout",
     "output_type": "stream",
     "text": [
      "10\n"
     ]
    }
   ],
   "source": [
    "abc()"
   ]
  },
  {
   "cell_type": "markdown",
   "metadata": {},
   "source": [
    "Function with 2 parameters"
   ]
  },
  {
   "cell_type": "code",
   "execution_count": 10,
   "metadata": {},
   "outputs": [],
   "source": [
    "def f(a, b):\n",
    "    c = a + b\n",
    "    print(c)"
   ]
  },
  {
   "cell_type": "code",
   "execution_count": 11,
   "metadata": {},
   "outputs": [
    {
     "name": "stdout",
     "output_type": "stream",
     "text": [
      "15\n"
     ]
    }
   ],
   "source": [
    "f(10, 5)"
   ]
  },
  {
   "cell_type": "markdown",
   "metadata": {},
   "source": [
    "Function with 1 parameter that returns 3 values"
   ]
  },
  {
   "cell_type": "code",
   "execution_count": 12,
   "metadata": {},
   "outputs": [],
   "source": [
    "def g(x):\n",
    "    return x, 2, 3"
   ]
  },
  {
   "cell_type": "code",
   "execution_count": 13,
   "metadata": {},
   "outputs": [
    {
     "data": {
      "text/plain": [
       "(8, 2, 3)"
      ]
     },
     "execution_count": 13,
     "metadata": {},
     "output_type": "execute_result"
    }
   ],
   "source": [
    "g(8)"
   ]
  },
  {
   "cell_type": "code",
   "execution_count": 18,
   "metadata": {
    "colab": {
     "autoexec": {
      "startup": false,
      "wait_interval": 0
     }
    },
    "colab_type": "code",
    "id": "nxGH4X802nXI",
    "outputId": "72759464-f0aa-4056-ee71-ae0bd88797a5"
   },
   "outputs": [
    {
     "name": "stdout",
     "output_type": "stream",
     "text": [
      "3\n"
     ]
    }
   ],
   "source": [
    "def add_numbers(a, b):\n",
    "    return a + b\n",
    "s = add_numbers(1, 2)\n",
    "print(s)"
   ]
  },
  {
   "cell_type": "markdown",
   "metadata": {},
   "source": [
    "The variables used inside the functions are specific to that function and cannot be accessed outside without special cases."
   ]
  },
  {
   "cell_type": "code",
   "execution_count": 15,
   "metadata": {},
   "outputs": [
    {
     "ename": "NameError",
     "evalue": "name 'c' is not defined",
     "output_type": "error",
     "traceback": [
      "\u001b[0;31m---------------------------------------------------------------------------\u001b[0m",
      "\u001b[0;31mNameError\u001b[0m                                 Traceback (most recent call last)",
      "\u001b[0;32m<ipython-input-15-2b66fd261ee5>\u001b[0m in \u001b[0;36m<module>\u001b[0;34m()\u001b[0m\n\u001b[0;32m----> 1\u001b[0;31m \u001b[0mc\u001b[0m\u001b[0;34m\u001b[0m\u001b[0m\n\u001b[0m",
      "\u001b[0;31mNameError\u001b[0m: name 'c' is not defined"
     ]
    }
   ],
   "source": [
    "c"
   ]
  },
  {
   "cell_type": "markdown",
   "metadata": {},
   "source": [
    "## Variable Types\n",
    "In python, there are many variable types. They include:\n",
    "* int \n",
    "    * *7*\n",
    "* str \n",
    "    * *\"Hello\"*\n",
    "    * 'Wow'\n",
    "* float \n",
    "    * *3.123*\n",
    "* boolean \n",
    "    * False*\n",
    "* list \n",
    "    * *[2, 5, 10, 15]*\n",
    "* dictionary \n",
    "    * *{ \"fruit\" : \"apple\",   \n",
    "    \"qty\" : 1}*\n",
    "\n",
    "The type is auto assigned when assigning values to the variable. To know the type of variable use **type** function."
   ]
  },
  {
   "cell_type": "code",
   "execution_count": 22,
   "metadata": {},
   "outputs": [],
   "source": [
    "def p_type(a):\n",
    "    print(a)\n",
    "    print(\"The type of \", a, \" is \", type(a))"
   ]
  },
  {
   "cell_type": "code",
   "execution_count": null,
   "metadata": {},
   "outputs": [],
   "source": [
    "a = 5\n",
    "p_type(a)"
   ]
  },
  {
   "cell_type": "code",
   "execution_count": null,
   "metadata": {},
   "outputs": [],
   "source": [
    "b = 1.5\n",
    "p_type(b)"
   ]
  },
  {
   "cell_type": "code",
   "execution_count": null,
   "metadata": {},
   "outputs": [],
   "source": [
    "p_type(\"Write anything!\")"
   ]
  },
  {
   "cell_type": "code",
   "execution_count": null,
   "metadata": {
    "scrolled": true
   },
   "outputs": [],
   "source": [
    "c = True\n",
    "p_type(c)"
   ]
  },
  {
   "cell_type": "code",
   "execution_count": null,
   "metadata": {},
   "outputs": [],
   "source": [
    "p_type([1, 2])"
   ]
  },
  {
   "cell_type": "code",
   "execution_count": null,
   "metadata": {},
   "outputs": [],
   "source": [
    "p_type({\"hello\": 1,\n",
    "       \"hi\": \"a\"})"
   ]
  },
  {
   "cell_type": "markdown",
   "metadata": {},
   "source": [
    "## String Operations\n",
    "* Strings can be added with strings\n",
    "* Strings can be multiplied by integers\n",
    "* Strings can be formatted using curly brackets **{}** and its function **format**"
   ]
  },
  {
   "cell_type": "code",
   "execution_count": null,
   "metadata": {},
   "outputs": [],
   "source": [
    "\"abc\" + \"def\""
   ]
  },
  {
   "cell_type": "code",
   "execution_count": null,
   "metadata": {
    "scrolled": true
   },
   "outputs": [],
   "source": [
    "\"abc \"*3"
   ]
  },
  {
   "cell_type": "code",
   "execution_count": 20,
   "metadata": {
    "colab": {
     "autoexec": {
      "startup": false,
      "wait_interval": 0
     },
     "base_uri": "https://localhost:8080/",
     "height": 34
    },
    "colab_type": "code",
    "executionInfo": {
     "elapsed": 880,
     "status": "ok",
     "timestamp": 1525227386686,
     "user": {
      "displayName": "Kiran Poudel",
      "photoUrl": "https://lh3.googleusercontent.com/a/default-user=s128",
      "userId": "100399137249051217878"
     },
     "user_tz": -345
    },
    "id": "y3mV_Xwr2nWb",
    "outputId": "186c5d75-d578-4cd7-beff-7a7662a5a02b"
   },
   "outputs": [
    {
     "name": "stdout",
     "output_type": "stream",
     "text": [
      "smoking is 2 bad\n",
      "smoking is 2 good\n"
     ]
    }
   ],
   "source": [
    "#print('smoking is 2 bad')\n",
    "print('{} is {} {}'.format(\"smoking\", 2, \"good\"))\n",
    "#useful for making sure output is readable and user friendly."
   ]
  },
  {
   "cell_type": "markdown",
   "metadata": {},
   "source": [
    "## Type Casting (DATA TYPE COVERSION)\n",
    "Variables can be converted to another type if they are compatible. This can be done using the keyword for respective types. Some keywords are:\n",
    "* String\n",
    "    * str\n",
    "* Integer\n",
    "    * int\n",
    "* Float\n",
    "    * float\n",
    "* List\n",
    "    * list  \n",
    "\n",
    "You can try doing this yourself later for more understanding."
   ]
  },
  {
   "cell_type": "code",
   "execution_count": 23,
   "metadata": {},
   "outputs": [
    {
     "name": "stdout",
     "output_type": "stream",
     "text": [
      "5\n",
      "The type of  5  is  <class 'int'>\n"
     ]
    }
   ],
   "source": [
    "p_type(5)"
   ]
  },
  {
   "cell_type": "code",
   "execution_count": 24,
   "metadata": {},
   "outputs": [
    {
     "name": "stdout",
     "output_type": "stream",
     "text": [
      "5\n",
      "The type of  5  is  <class 'str'>\n"
     ]
    }
   ],
   "source": [
    "p_type(str(5))"
   ]
  },
  {
   "cell_type": "code",
   "execution_count": 25,
   "metadata": {},
   "outputs": [
    {
     "ename": "TypeError",
     "evalue": "must be str, not int",
     "output_type": "error",
     "traceback": [
      "\u001b[0;31m---------------------------------------------------------------------------\u001b[0m",
      "\u001b[0;31mTypeError\u001b[0m                                 Traceback (most recent call last)",
      "\u001b[0;32m<ipython-input-25-9b336fba32f7>\u001b[0m in \u001b[0;36m<module>\u001b[0;34m()\u001b[0m\n\u001b[0;32m----> 1\u001b[0;31m \u001b[0;34m\"abc\"\u001b[0m \u001b[0;34m+\u001b[0m \u001b[0;36m1\u001b[0m\u001b[0;34m\u001b[0m\u001b[0m\n\u001b[0m",
      "\u001b[0;31mTypeError\u001b[0m: must be str, not int"
     ]
    }
   ],
   "source": [
    "\"abc\" + 1 #Error because of different data type"
   ]
  },
  {
   "cell_type": "code",
   "execution_count": 26,
   "metadata": {},
   "outputs": [
    {
     "data": {
      "text/plain": [
       "'abc1'"
      ]
     },
     "execution_count": 26,
     "metadata": {},
     "output_type": "execute_result"
    }
   ],
   "source": [
    "\"abc\" + str(1)"
   ]
  },
  {
   "cell_type": "code",
   "execution_count": 41,
   "metadata": {},
   "outputs": [
    {
     "name": "stdout",
     "output_type": "stream",
     "text": [
      "2\n"
     ]
    }
   ],
   "source": [
    "print (int(\"1\") + 1)  #Str to int data type"
   ]
  },
  {
   "cell_type": "markdown",
   "metadata": {},
   "source": [
    "## Comparators\n",
    "* Equal to\n",
    "    * ==\n",
    "* Not equal to\n",
    "    * !=\n",
    "* Less than\n",
    "    * <\n",
    "* Greater than\n",
    "    * >\n",
    "* Less than or equal to\n",
    "    * <=\n",
    "* Greater than or equal to\n",
    "    * \\>=\n",
    "They return boolean values."
   ]
  },
  {
   "cell_type": "code",
   "execution_count": 39,
   "metadata": {
    "colab": {
     "autoexec": {
      "startup": false,
      "wait_interval": 0
     },
     "base_uri": "https://localhost:8080/",
     "height": 68
    },
    "colab_type": "code",
    "executionInfo": {
     "elapsed": 898,
     "status": "ok",
     "timestamp": 1525227380322,
     "user": {
      "displayName": "Kiran Poudel",
      "photoUrl": "https://lh3.googleusercontent.com/a/default-user=s128",
      "userId": "100399137249051217878"
     },
     "user_tz": -345
    },
    "id": "zSsJ3L7k2nWT",
    "outputId": "0f8641b1-29a4-4196-a36d-5c4ef404ce08"
   },
   "outputs": [
    {
     "data": {
      "text/plain": [
       "True"
      ]
     },
     "execution_count": 39,
     "metadata": {},
     "output_type": "execute_result"
    }
   ],
   "source": [
    "2 != 3"
   ]
  },
  {
   "cell_type": "code",
   "execution_count": null,
   "metadata": {},
   "outputs": [],
   "source": [
    "2 == 3"
   ]
  },
  {
   "cell_type": "code",
   "execution_count": null,
   "metadata": {},
   "outputs": [],
   "source": [
    "7 >= 5"
   ]
  },
  {
   "cell_type": "code",
   "execution_count": null,
   "metadata": {},
   "outputs": [],
   "source": [
    "7 >= 10"
   ]
  },
  {
   "cell_type": "markdown",
   "metadata": {
    "colab_type": "text",
    "id": "ToVPyDZ12nWk"
   },
   "source": [
    "## Flow Control\n",
    "*Do not forget **colon** **:** at the end of the conditional lines.*"
   ]
  },
  {
   "cell_type": "markdown",
   "metadata": {
    "colab_type": "text",
    "id": "RWfjEpu72nWl"
   },
   "source": [
    "### Conditions\n",
    "* if\n",
    "* if ... else\n",
    "* if ... elif\n",
    "* if ... elif ... else"
   ]
  },
  {
   "cell_type": "code",
   "execution_count": null,
   "metadata": {
    "colab": {
     "autoexec": {
      "startup": false,
      "wait_interval": 0
     },
     "base_uri": "https://localhost:8080/",
     "height": 34
    },
    "colab_type": "code",
    "executionInfo": {
     "elapsed": 948,
     "status": "ok",
     "timestamp": 1525235560860,
     "user": {
      "displayName": "Nama Budda",
      "photoUrl": "//lh3.googleusercontent.com/-bs8EIri6whU/AAAAAAAAAAI/AAAAAAAAFOA/2worzW5Poi0/s50-c-k-no/photo.jpg",
      "userId": "103954825905713429993"
     },
     "user_tz": -345
    },
    "id": "fkAnBNj62nWn",
    "outputId": "82b046a4-7ae2-4c50-9dc1-e0d7719d44cd"
   },
   "outputs": [],
   "source": [
    "def rel(a, c):\n",
    "    if a == c:\n",
    "        print(\"Equal\")\n",
    "    elif a > c:\n",
    "        print(\"Greater\")\n",
    "    else:\n",
    "        print(\"Less\")"
   ]
  },
  {
   "cell_type": "code",
   "execution_count": null,
   "metadata": {},
   "outputs": [],
   "source": [
    "rel(1, 2)"
   ]
  },
  {
   "cell_type": "code",
   "execution_count": null,
   "metadata": {},
   "outputs": [],
   "source": [
    "rel(1, 1)"
   ]
  },
  {
   "cell_type": "code",
   "execution_count": null,
   "metadata": {},
   "outputs": [],
   "source": [
    "rel(2, 1)"
   ]
  },
  {
   "cell_type": "markdown",
   "metadata": {
    "colab_type": "text",
    "id": "tDxwu71W2nW1"
   },
   "source": [
    "### While Loop\n",
    "**The while loop tells the computer to do something as long as the condition is met**"
   ]
  },
  {
   "cell_type": "code",
   "execution_count": 44,
   "metadata": {
    "colab": {
     "autoexec": {
      "startup": false,
      "wait_interval": 0
     },
     "base_uri": "https://localhost:8080/",
     "height": 102
    },
    "colab_type": "code",
    "executionInfo": {
     "elapsed": 983,
     "status": "ok",
     "timestamp": 1525235570472,
     "user": {
      "displayName": "Nama Budda",
      "photoUrl": "//lh3.googleusercontent.com/-bs8EIri6whU/AAAAAAAAAAI/AAAAAAAAFOA/2worzW5Poi0/s50-c-k-no/photo.jpg",
      "userId": "103954825905713429993"
     },
     "user_tz": -345
    },
    "id": "IzThOM_O2nW4",
    "outputId": "e3b769d4-08ef-418b-a7fb-b2ebdab85031"
   },
   "outputs": [
    {
     "name": "stdout",
     "output_type": "stream",
     "text": [
      "0\n",
      "1\n",
      "2\n",
      "3\n",
      "4\n",
      "5\n",
      "6\n",
      "7\n",
      "8\n",
      "9\n"
     ]
    }
   ],
   "source": [
    "w = 0\n",
    "while w < 10:\n",
    "    print(w)\n",
    "    w = w + 1"
   ]
  },
  {
   "cell_type": "markdown",
   "metadata": {
    "colab_type": "text",
    "id": "iTZDBibA2nW5"
   },
   "source": [
    "### For loop\n",
    "**Iterate code for n number of times**"
   ]
  },
  {
   "cell_type": "code",
   "execution_count": 45,
   "metadata": {},
   "outputs": [
    {
     "name": "stdout",
     "output_type": "stream",
     "text": [
      "1\n",
      "2\n",
      "3\n"
     ]
    }
   ],
   "source": [
    "for i in [1, 2, 3]:\n",
    "    print(i)"
   ]
  },
  {
   "cell_type": "markdown",
   "metadata": {},
   "source": [
    "*Note: range(x) gives an iterator from 0 to x-1*  "
   ]
  },
  {
   "cell_type": "code",
   "execution_count": null,
   "metadata": {
    "colab": {
     "autoexec": {
      "startup": false,
      "wait_interval": 0
     }
    },
    "colab_type": "code",
    "id": "UnXsFbTZ2nW6",
    "outputId": "5fdd462a-6e45-493c-e8a5-3b5250793d01",
    "scrolled": true
   },
   "outputs": [],
   "source": [
    "for i in range(100):\n",
    "    print(i)"
   ]
  },
  {
   "cell_type": "markdown",
   "metadata": {
    "colab": {
     "autoexec": {
      "startup": false,
      "wait_interval": 0
     },
     "base_uri": "https://localhost:8080/",
     "height": 34
    },
    "colab_type": "code",
    "executionInfo": {
     "elapsed": 880,
     "status": "ok",
     "timestamp": 1525227386686,
     "user": {
      "displayName": "Kiran Poudel",
      "photoUrl": "https://lh3.googleusercontent.com/a/default-user=s128",
      "userId": "100399137249051217878"
     },
     "user_tz": -345
    },
    "id": "y3mV_Xwr2nWb",
    "outputId": "186c5d75-d578-4cd7-beff-7a7662a5a02b"
   },
   "source": [
    "*Note: range(x, y, gap) gives an iterator from x to y with interval = gap. y is not included in output.*"
   ]
  },
  {
   "cell_type": "code",
   "execution_count": null,
   "metadata": {
    "colab": {
     "autoexec": {
      "startup": false,
      "wait_interval": 0
     }
    },
    "colab_type": "code",
    "id": "V9DL0IbB2nW8",
    "outputId": "33d796e1-eede-4aa9-b0b3-bae8faf96b2f"
   },
   "outputs": [],
   "source": [
    "for i in range(10, 20, 5):\n",
    "    print(i)"
   ]
  },
  {
   "cell_type": "code",
   "execution_count": null,
   "metadata": {
    "colab": {
     "autoexec": {
      "startup": false,
      "wait_interval": 0
     }
    },
    "colab_type": "code",
    "id": "Cw3wursJ2nXB",
    "outputId": "b113bc0a-bb36-4b3a-83da-fa8f15a63ce5"
   },
   "outputs": [],
   "source": [
    "total = 0\n",
    "for num in range(4):\n",
    "    print(num)\n",
    "    total = total + num\n",
    "print('TOTAL',total)"
   ]
  },
  {
   "cell_type": "markdown",
   "metadata": {
    "colab_type": "text",
    "id": "CT4pRnFk2nXJ"
   },
   "source": [
    "## Lists\n",
    "Lists can contain multiple values, which makes it easier to write programs that handle large amounts of data. The values in the list do not need to be of same data type.  \n",
    "To create a list we use square brackets **[ ]** with comma **,** to separate the elements."
   ]
  },
  {
   "cell_type": "code",
   "execution_count": null,
   "metadata": {
    "colab": {
     "autoexec": {
      "startup": false,
      "wait_interval": 0
     }
    },
    "colab_type": "code",
    "id": "e7_rxO_g2nXK",
    "outputId": "21da8bf8-8244-442a-adbd-78464362389f",
    "scrolled": true
   },
   "outputs": [],
   "source": [
    "my_list = ['hello', 3.1415, True, None, 42]\n",
    "my_list"
   ]
  },
  {
   "cell_type": "code",
   "execution_count": 46,
   "metadata": {
    "scrolled": true
   },
   "outputs": [
    {
     "name": "stdout",
     "output_type": "stream",
     "text": [
      "['i', 'you', 'we', 'he', 'she', 'they']\n",
      "The type of  ['i', 'you', 'we', 'he', 'she', 'they']  is  <class 'list'>\n"
     ]
    }
   ],
   "source": [
    "pl = ['i', 'you', 'we', 'he', 'she', 'they']\n",
    "p_type(pl)\n"
   ]
  },
  {
   "cell_type": "markdown",
   "metadata": {},
   "source": [
    "### Length of lists\n",
    "The **length** of the list can be found using the **len** keyword."
   ]
  },
  {
   "cell_type": "code",
   "execution_count": 47,
   "metadata": {},
   "outputs": [
    {
     "data": {
      "text/plain": [
       "6"
      ]
     },
     "execution_count": 47,
     "metadata": {},
     "output_type": "execute_result"
    }
   ],
   "source": [
    "len(pl)"
   ]
  },
  {
   "cell_type": "markdown",
   "metadata": {},
   "source": [
    "### Indexing\n",
    "Elements of lists can be selected using their index i.e. position from the beginning in the list. Unlike functions, indexing requires square brackets **[ ]**.  \n",
    "*In python, the first index starts with 0.*"
   ]
  },
  {
   "cell_type": "code",
   "execution_count": null,
   "metadata": {},
   "outputs": [],
   "source": [
    "pl"
   ]
  },
  {
   "cell_type": "code",
   "execution_count": null,
   "metadata": {
    "scrolled": true
   },
   "outputs": [],
   "source": [
    "pl[0]"
   ]
  },
  {
   "cell_type": "code",
   "execution_count": null,
   "metadata": {
    "colab": {
     "autoexec": {
      "startup": false,
      "wait_interval": 0
     }
    },
    "colab_type": "code",
    "id": "7coBEWsV2nXM",
    "outputId": "76a881c5-1187-47dd-b310-7f8dd8582696",
    "scrolled": false
   },
   "outputs": [],
   "source": [
    "pl[1]"
   ]
  },
  {
   "cell_type": "markdown",
   "metadata": {},
   "source": [
    "Similarly, indexing can be done from the last as well. In this case, the last index is -1, the second last index -2 and so on.\n",
    "\n",
    "**It's difficult to count no. of elements for larger lists**"
   ]
  },
  {
   "cell_type": "code",
   "execution_count": 53,
   "metadata": {
    "colab": {
     "autoexec": {
      "startup": false,
      "wait_interval": 0
     }
    },
    "colab_type": "code",
    "id": "cHA7b7Q_2nXN",
    "outputId": "7203967d-a799-4ab4-d477-48de6b8bf069"
   },
   "outputs": [
    {
     "name": "stdout",
     "output_type": "stream",
     "text": [
      "they\n",
      "she\n"
     ]
    }
   ],
   "source": [
    "print(pl[-1])\n",
    "print(pl[-2])\n"
   ]
  },
  {
   "cell_type": "markdown",
   "metadata": {
    "colab_type": "text",
    "id": "PFijxB3k2nXW"
   },
   "source": [
    "### Slicing\n",
    "Slicing can be done using a colon **:** with the starting index in front of it and the ending index after the colon.  \n",
    "*Note : The ending index is not included in the output.*"
   ]
  },
  {
   "cell_type": "code",
   "execution_count": null,
   "metadata": {},
   "outputs": [],
   "source": [
    "pl"
   ]
  },
  {
   "cell_type": "markdown",
   "metadata": {},
   "source": [
    "Taking elements from 0 index to 3-1=2 index."
   ]
  },
  {
   "cell_type": "code",
   "execution_count": 54,
   "metadata": {
    "colab": {
     "autoexec": {
      "startup": false,
      "wait_interval": 0
     }
    },
    "colab_type": "code",
    "id": "6avqbM3b2nXX",
    "outputId": "1b8df06f-bf0b-40df-9e14-66b9503f9c2e"
   },
   "outputs": [
    {
     "data": {
      "text/plain": [
       "['i', 'you', 'we']"
      ]
     },
     "execution_count": 54,
     "metadata": {},
     "output_type": "execute_result"
    }
   ],
   "source": [
    "pl[0:3]"
   ]
  },
  {
   "cell_type": "code",
   "execution_count": 55,
   "metadata": {},
   "outputs": [
    {
     "data": {
      "text/plain": [
       "['i', 'you', 'we']"
      ]
     },
     "execution_count": 55,
     "metadata": {},
     "output_type": "execute_result"
    }
   ],
   "source": [
    "pl[:3]"
   ]
  },
  {
   "cell_type": "code",
   "execution_count": 56,
   "metadata": {},
   "outputs": [
    {
     "data": {
      "text/plain": [
       "['he', 'she', 'they']"
      ]
     },
     "execution_count": 56,
     "metadata": {},
     "output_type": "execute_result"
    }
   ],
   "source": [
    "pl[3:]"
   ]
  },
  {
   "cell_type": "code",
   "execution_count": 57,
   "metadata": {},
   "outputs": [
    {
     "data": {
      "text/plain": [
       "['you', 'we', 'he']"
      ]
     },
     "execution_count": 57,
     "metadata": {},
     "output_type": "execute_result"
    }
   ],
   "source": [
    "pl[1:-2]"
   ]
  },
  {
   "cell_type": "markdown",
   "metadata": {},
   "source": [
    "We can take the list in reverse in the following way."
   ]
  },
  {
   "cell_type": "code",
   "execution_count": 58,
   "metadata": {
    "colab": {
     "autoexec": {
      "startup": false,
      "wait_interval": 0
     }
    },
    "colab_type": "code",
    "id": "hN8HWQWf2nXc",
    "outputId": "d006e52c-9c2f-46c7-f00c-7867346e55be"
   },
   "outputs": [
    {
     "data": {
      "text/plain": [
       "['they', 'she', 'he', 'we', 'you', 'i']"
      ]
     },
     "execution_count": 58,
     "metadata": {},
     "output_type": "execute_result"
    }
   ],
   "source": [
    "pl[::-1] "
   ]
  },
  {
   "cell_type": "markdown",
   "metadata": {},
   "source": [
    "We can also take indices with specific gap similar to in range.  \n",
    "*Again, the last index is not included in the output.*"
   ]
  },
  {
   "cell_type": "code",
   "execution_count": 60,
   "metadata": {},
   "outputs": [
    {
     "data": {
      "text/plain": [
       "['i', 'we', 'she']"
      ]
     },
     "execution_count": 60,
     "metadata": {},
     "output_type": "execute_result"
    }
   ],
   "source": [
    "pl[0:6:2]"
   ]
  },
  {
   "cell_type": "code",
   "execution_count": 62,
   "metadata": {
    "colab": {
     "autoexec": {
      "startup": false,
      "wait_interval": 0
     }
    },
    "colab_type": "code",
    "id": "Rgitxaiv2nXd",
    "outputId": "da3b3bc3-5b3d-4981-be99-8338efd982e2"
   },
   "outputs": [
    {
     "data": {
      "text/plain": [
       "['i', 'new', 'we', 'he', 'she', 'they']"
      ]
     },
     "execution_count": 62,
     "metadata": {},
     "output_type": "execute_result"
    }
   ],
   "source": [
    "pl[1] = \"new\" #Updating list\n",
    "pl"
   ]
  },
  {
   "cell_type": "markdown",
   "metadata": {},
   "source": [
    "## Tuple\n",
    "To create a tuple we use paranthesis **()** with comma **,** to separate the elements.  \n",
    "The indexing/slicing is exactly same in tuple as in list."
   ]
  },
  {
   "cell_type": "code",
   "execution_count": 70,
   "metadata": {},
   "outputs": [
    {
     "data": {
      "text/plain": [
       "tuple"
      ]
     },
     "execution_count": 70,
     "metadata": {},
     "output_type": "execute_result"
    }
   ],
   "source": [
    "tup1 = (50,) #you have to include a comma, even though there is only one value\n",
    "type(tup1) #Removing , can make it integer"
   ]
  },
  {
   "cell_type": "code",
   "execution_count": 72,
   "metadata": {},
   "outputs": [
    {
     "data": {
      "text/plain": [
       "('i', 'new', 'we', 'he', 'she', 'they')"
      ]
     },
     "execution_count": 72,
     "metadata": {},
     "output_type": "execute_result"
    }
   ],
   "source": [
    "tpl = tuple(pl)\n",
    "tpl"
   ]
  },
  {
   "cell_type": "code",
   "execution_count": 73,
   "metadata": {},
   "outputs": [
    {
     "data": {
      "text/plain": [
       "'i'"
      ]
     },
     "execution_count": 73,
     "metadata": {},
     "output_type": "execute_result"
    }
   ],
   "source": [
    "tpl[0]"
   ]
  },
  {
   "cell_type": "code",
   "execution_count": 74,
   "metadata": {},
   "outputs": [
    {
     "data": {
      "text/plain": [
       "('i', 'we', 'she')"
      ]
     },
     "execution_count": 74,
     "metadata": {},
     "output_type": "execute_result"
    }
   ],
   "source": [
    "tpl[0:6:2]"
   ]
  },
  {
   "cell_type": "markdown",
   "metadata": {},
   "source": [
    "# Mutable vs Immutable\n",
    "The difference between lists and tuples is the fact that lists are mutable while tuples are immutable.  \n",
    "To understand it clearly, at a higher level, we can say that mutable objects are the ones that can be changed while immutable objects are the ones that cannot be changed after assignment.  \n",
    "\n",
    "**===>Immutable- bool,int,str,tupple**\n",
    "\n",
    "**===>Mutable-list**\n",
    "\n",
    "You can read more about it [here](https://medium.com/@meghamohan/mutable-and-immutable-side-of-python-c2145cf72747)."
   ]
  },
  {
   "cell_type": "code",
   "execution_count": 76,
   "metadata": {},
   "outputs": [
    {
     "name": "stdout",
     "output_type": "stream",
     "text": [
      "MAN\n"
     ]
    }
   ],
   "source": [
    "w='MAN'\n",
    "print(w)"
   ]
  },
  {
   "cell_type": "code",
   "execution_count": 79,
   "metadata": {},
   "outputs": [
    {
     "ename": "TypeError",
     "evalue": "'int' object does not support item assignment",
     "output_type": "error",
     "traceback": [
      "\u001b[0;31m---------------------------------------------------------------------------\u001b[0m",
      "\u001b[0;31mTypeError\u001b[0m                                 Traceback (most recent call last)",
      "\u001b[0;32m<ipython-input-79-4a0b23460b4e>\u001b[0m in \u001b[0;36m<module>\u001b[0;34m()\u001b[0m\n\u001b[0;32m----> 1\u001b[0;31m \u001b[0ma\u001b[0m\u001b[0;34m[\u001b[0m\u001b[0;36m0\u001b[0m\u001b[0;34m]\u001b[0m\u001b[0;34m=\u001b[0m\u001b[0;34m'm'\u001b[0m \u001b[0;31m#STR DOESN'T ALLOW TO CHANGE ASSIGNED DATA\u001b[0m\u001b[0;34m\u001b[0m\u001b[0m\n\u001b[0m\u001b[1;32m      2\u001b[0m \u001b[0mprint\u001b[0m\u001b[0;34m(\u001b[0m\u001b[0mw\u001b[0m\u001b[0;34m)\u001b[0m\u001b[0;34m\u001b[0m\u001b[0m\n",
      "\u001b[0;31mTypeError\u001b[0m: 'int' object does not support item assignment"
     ]
    }
   ],
   "source": [
    "a[0]='m' #STR DOESN'T ALLOW TO CHANGE ASSIGNED DATA\n",
    "print(w) "
   ]
  },
  {
   "cell_type": "markdown",
   "metadata": {},
   "source": [
    "Lists --> Mutable"
   ]
  },
  {
   "cell_type": "code",
   "execution_count": 80,
   "metadata": {},
   "outputs": [
    {
     "data": {
      "text/plain": [
       "['i', 'new', 'we', 'he', 'she', 'they']"
      ]
     },
     "execution_count": 80,
     "metadata": {},
     "output_type": "execute_result"
    }
   ],
   "source": [
    "pl"
   ]
  },
  {
   "cell_type": "code",
   "execution_count": 94,
   "metadata": {
    "scrolled": true
   },
   "outputs": [
    {
     "data": {
      "text/plain": [
       "['added', 'he', 'she', 'they']"
      ]
     },
     "execution_count": 94,
     "metadata": {},
     "output_type": "execute_result"
    }
   ],
   "source": [
    "pl[0] = \"added\" #REPLACING VALUE IN LIST\n",
    "pl"
   ]
  },
  {
   "cell_type": "markdown",
   "metadata": {},
   "source": [
    "Tuples --> Immutable"
   ]
  },
  {
   "cell_type": "code",
   "execution_count": 92,
   "metadata": {},
   "outputs": [
    {
     "data": {
      "text/plain": [
       "('i', 'new', 'we', 'he', 'she', 'they')"
      ]
     },
     "execution_count": 92,
     "metadata": {},
     "output_type": "execute_result"
    }
   ],
   "source": [
    "tpl"
   ]
  },
  {
   "cell_type": "markdown",
   "metadata": {},
   "source": [
    "'tuple' object does not support item assignment\n"
   ]
  },
  {
   "cell_type": "code",
   "execution_count": 93,
   "metadata": {},
   "outputs": [
    {
     "ename": "TypeError",
     "evalue": "'tuple' object does not support item assignment",
     "output_type": "error",
     "traceback": [
      "\u001b[0;31m---------------------------------------------------------------------------\u001b[0m",
      "\u001b[0;31mTypeError\u001b[0m                                 Traceback (most recent call last)",
      "\u001b[0;32m<ipython-input-93-8d664f449449>\u001b[0m in \u001b[0;36m<module>\u001b[0;34m()\u001b[0m\n\u001b[0;32m----> 1\u001b[0;31m \u001b[0mtpl\u001b[0m\u001b[0;34m[\u001b[0m\u001b[0;36m0\u001b[0m\u001b[0;34m]\u001b[0m \u001b[0;34m=\u001b[0m \u001b[0;34m\"new\"\u001b[0m\u001b[0;34m\u001b[0m\u001b[0m\n\u001b[0m",
      "\u001b[0;31mTypeError\u001b[0m: 'tuple' object does not support item assignment"
     ]
    }
   ],
   "source": [
    "tpl[0] = \"new\" #IMMUTABLE"
   ]
  },
  {
   "cell_type": "markdown",
   "metadata": {
    "colab_type": "text",
    "id": "DROkpZQ72nXk"
   },
   "source": [
    "### Concatenate (ADDING LISTS OR TUPLE)\n",
    "**We can add two or more lists.**\n"
   ]
  },
  {
   "cell_type": "code",
   "execution_count": 96,
   "metadata": {
    "colab": {
     "autoexec": {
      "startup": false,
      "wait_interval": 0
     }
    },
    "colab_type": "code",
    "id": "hRKM0Qdh2nXk",
    "outputId": "7fa78358-1ba7-42c6-e7b1-95aea5e48be1"
   },
   "outputs": [
    {
     "name": "stdout",
     "output_type": "stream",
     "text": [
      "['added', 'he', 'she', 'they']\n",
      "['my', 'your', 'our']\n"
     ]
    }
   ],
   "source": [
    "print(pl)\n",
    "\n",
    "pl_2 = ['my', 'your', 'our'] \n",
    "print(pl_2)"
   ]
  },
  {
   "cell_type": "code",
   "execution_count": null,
   "metadata": {},
   "outputs": [],
   "source": [
    "print(pl+pl_2)"
   ]
  },
  {
   "cell_type": "markdown",
   "metadata": {},
   "source": [
    "We can also add two or more tuples."
   ]
  },
  {
   "cell_type": "code",
   "execution_count": null,
   "metadata": {},
   "outputs": [],
   "source": [
    "tpl_2 = tuple(pl_2)\n",
    "print(tpl+tpl_2)"
   ]
  },
  {
   "cell_type": "markdown",
   "metadata": {},
   "source": [
    "**Tuples** and **lists** however, cannot be added."
   ]
  },
  {
   "cell_type": "code",
   "execution_count": null,
   "metadata": {},
   "outputs": [],
   "source": [
    "print(tpl+tuple(pl))"
   ]
  },
  {
   "cell_type": "markdown",
   "metadata": {},
   "source": [
    "### Append - Adding elements in lists\n",
    "An item can be appended at the end of a list using the **append** method."
   ]
  },
  {
   "cell_type": "code",
   "execution_count": 97,
   "metadata": {
    "colab": {
     "autoexec": {
      "startup": false,
      "wait_interval": 0
     }
    },
    "colab_type": "code",
    "id": "xgKHICya2nXn",
    "outputId": "2235cd15-accc-45b0-ec9e-c40d4c6caa4f"
   },
   "outputs": [
    {
     "data": {
      "text/plain": [
       "['added', 'he', 'she', 'they', 'naya']"
      ]
     },
     "execution_count": 97,
     "metadata": {},
     "output_type": "execute_result"
    }
   ],
   "source": [
    "pl.append('naya')\n",
    "pl"
   ]
  },
  {
   "cell_type": "code",
   "execution_count": 98,
   "metadata": {},
   "outputs": [
    {
     "data": {
      "text/plain": [
       "['added', 'he', 'she', 'they']"
      ]
     },
     "execution_count": 98,
     "metadata": {},
     "output_type": "execute_result"
    }
   ],
   "source": [
    "pl.remove('naya')\n",
    "pl"
   ]
  },
  {
   "cell_type": "markdown",
   "metadata": {
    "colab_type": "text",
    "id": "DKutFRtf2nX2"
   },
   "source": [
    "## Dictionary\n",
    "Dictionaries are variables with **key** and **value** pairs.  \n",
    "The values can be any variables. But the keys must be immutable.\n",
    "\n",
    "Rules:\n",
    "- Each key is separated from its value by a colon (:)\n",
    "- the items are separated by commas\n",
    "-  the whole thing is enclosed in curly braces. \n",
    "\n",
    "\n",
    "An empty dictionary without any items is written with just two curly braces, like this: {}."
   ]
  },
  {
   "cell_type": "code",
   "execution_count": 99,
   "metadata": {
    "colab": {
     "autoexec": {
      "startup": false,
      "wait_interval": 0
     },
     "base_uri": "https://localhost:8080/",
     "height": 34
    },
    "colab_type": "code",
    "executionInfo": {
     "elapsed": 23193,
     "status": "ok",
     "timestamp": 1525275724155,
     "user": {
      "displayName": "Summit Shrestha",
      "photoUrl": "//lh5.googleusercontent.com/-YYw8RFy1RK4/AAAAAAAAAAI/AAAAAAAAABQ/51JmToxRtUM/s50-c-k-no/photo.jpg",
      "userId": "110573915273242734570"
     },
     "user_tz": -345
    },
    "id": "hwPnB8GG2nX3",
    "outputId": "a7916ba0-14a8-4a79-f15b-c640db24eabd"
   },
   "outputs": [
    {
     "name": "stdout",
     "output_type": "stream",
     "text": [
      "{'body': 'fat', 'color': 'white', (1, 2): 'this is his id', 'meals': [3, 1, 2]}\n",
      "The type of  {'body': 'fat', 'color': 'white', (1, 2): 'this is his id', 'meals': [3, 1, 2]}  is  <class 'dict'>\n"
     ]
    }
   ],
   "source": [
    "cat = {'body': 'fat', \n",
    "       'color': 'white',\n",
    "       (1, 2) : 'this is his id',\n",
    "       \"meals\": [3, 1, 2]}\n",
    "p_type(cat)"
   ]
  },
  {
   "cell_type": "markdown",
   "metadata": {},
   "source": [
    "### Accessing ELements of Dictionary\n",
    "We use the key instead of index for accessing dictionary elements."
   ]
  },
  {
   "cell_type": "code",
   "execution_count": 101,
   "metadata": {},
   "outputs": [
    {
     "name": "stdout",
     "output_type": "stream",
     "text": [
      "fat\n"
     ]
    }
   ],
   "source": [
    "print(cat['body'])"
   ]
  },
  {
   "cell_type": "markdown",
   "metadata": {},
   "source": [
    "Meaningful string can be made "
   ]
  },
  {
   "cell_type": "code",
   "execution_count": 102,
   "metadata": {
    "colab": {
     "autoexec": {
      "startup": false,
      "wait_interval": 0
     }
    },
    "colab_type": "code",
    "id": "2pLVt-ha2nX4",
    "outputId": "ae92db46-d4ea-4e60-fc3c-109f3f922fd5"
   },
   "outputs": [
    {
     "data": {
      "text/plain": [
       "'Cat has white fur.'"
      ]
     },
     "execution_count": 102,
     "metadata": {},
     "output_type": "execute_result"
    }
   ],
   "source": [
    "'Cat has ' + cat['color'] + ' fur.' "
   ]
  },
  {
   "cell_type": "markdown",
   "metadata": {},
   "source": [
    "### Keys and values"
   ]
  },
  {
   "cell_type": "code",
   "execution_count": null,
   "metadata": {
    "colab": {
     "autoexec": {
      "startup": false,
      "wait_interval": 0
     },
     "base_uri": "https://localhost:8080/",
     "height": 68
    },
    "colab_type": "code",
    "executionInfo": {
     "elapsed": 925,
     "status": "ok",
     "timestamp": 1525275749661,
     "user": {
      "displayName": "Summit Shrestha",
      "photoUrl": "//lh5.googleusercontent.com/-YYw8RFy1RK4/AAAAAAAAAAI/AAAAAAAAABQ/51JmToxRtUM/s50-c-k-no/photo.jpg",
      "userId": "110573915273242734570"
     },
     "user_tz": -345
    },
    "id": "UdZwNlOW2nX8",
    "outputId": "1c8834ca-f44c-4c19-e7e8-821018a60e08"
   },
   "outputs": [],
   "source": [
    "print(cat.keys())\n",
    "print(cat.values())"
   ]
  },
  {
   "cell_type": "markdown",
   "metadata": {},
   "source": [
    "### Dictionary Items\n",
    "The keys and values can be obtained in ordered set format."
   ]
  },
  {
   "cell_type": "code",
   "execution_count": 107,
   "metadata": {},
   "outputs": [
    {
     "name": "stdout",
     "output_type": "stream",
     "text": [
      "dict_items([('body', 'fat'), ('color', 'white'), ((1, 2), 'this is his id'), ('meals', [3, 1, 2])])\n"
     ]
    }
   ],
   "source": [
    "print(cat.items())"
   ]
  },
  {
   "cell_type": "code",
   "execution_count": 104,
   "metadata": {},
   "outputs": [
    {
     "name": "stdout",
     "output_type": "stream",
     "text": [
      "1\n",
      "2\n",
      "3\n",
      "4\n"
     ]
    }
   ],
   "source": [
    "#FOR LOOP EXAMPLE\n",
    "\n",
    "for i in [1,2,3,4]:\n",
    "    print(i)"
   ]
  },
  {
   "cell_type": "code",
   "execution_count": 105,
   "metadata": {},
   "outputs": [
    {
     "name": "stdout",
     "output_type": "stream",
     "text": [
      "body\n",
      "color\n",
      "(1, 2)\n",
      "meals\n"
     ]
    }
   ],
   "source": [
    "for k in cat: \n",
    "    print(k)"
   ]
  },
  {
   "cell_type": "code",
   "execution_count": null,
   "metadata": {
    "colab": {
     "autoexec": {
      "startup": false,
      "wait_interval": 0
     }
    },
    "colab_type": "code",
    "id": "1d4o6Tau2nX9",
    "outputId": "b4f6c096-5322-451d-a16d-8bc7019eb546"
   },
   "outputs": [],
   "source": [
    "for k, v in cat.items():\n",
    "    print(\"Key : {} ... Value : {}\".format(k, v))"
   ]
  },
  {
   "cell_type": "markdown",
   "metadata": {},
   "source": [
    "### Updating dictionary\n",
    "Dictionary can be updated either using the **update** function. We can also assign new elements in the same way we do in lists but we need to use **keys** instead of indices."
   ]
  },
  {
   "cell_type": "code",
   "execution_count": 108,
   "metadata": {
    "colab": {
     "autoexec": {
      "startup": false,
      "wait_interval": 0
     }
    },
    "colab_type": "code",
    "id": "2f8gH73A2nYD",
    "outputId": "c847cabd-72ff-4ab9-bba9-f06e5a4c1073"
   },
   "outputs": [
    {
     "data": {
      "text/plain": [
       "{(1, 2): 'this is his id',\n",
       " 'body': 'fat',\n",
       " 'color': 'white',\n",
       " 'eyes': 'blue',\n",
       " 'meals': [3, 1, 2]}"
      ]
     },
     "execution_count": 108,
     "metadata": {},
     "output_type": "execute_result"
    }
   ],
   "source": [
    "cat.update({'eyes': 'blue'})\n",
    "cat"
   ]
  },
  {
   "cell_type": "code",
   "execution_count": 109,
   "metadata": {
    "scrolled": true
   },
   "outputs": [
    {
     "data": {
      "text/plain": [
       "{(1, 2): 'this is his id',\n",
       " 'body': 'fat',\n",
       " 'color': 'white',\n",
       " 'eyes': 'blue',\n",
       " 'meals': [3, 1, 2],\n",
       " 'weight': 4}"
      ]
     },
     "execution_count": 109,
     "metadata": {},
     "output_type": "execute_result"
    }
   ],
   "source": [
    "cat['weight'] = 4\n",
    "cat"
   ]
  },
  {
   "cell_type": "markdown",
   "metadata": {},
   "source": [
    "**Elements in dictionary can be deleted using pop() function**"
   ]
  },
  {
   "cell_type": "code",
   "execution_count": 110,
   "metadata": {},
   "outputs": [
    {
     "data": {
      "text/plain": [
       "4"
      ]
     },
     "execution_count": 110,
     "metadata": {},
     "output_type": "execute_result"
    }
   ],
   "source": [
    "cat.pop('weight')"
   ]
  },
  {
   "cell_type": "code",
   "execution_count": 111,
   "metadata": {},
   "outputs": [
    {
     "name": "stdout",
     "output_type": "stream",
     "text": [
      "{'body': 'fat', 'color': 'white', (1, 2): 'this is his id', 'meals': [3, 1, 2], 'eyes': 'blue'}\n"
     ]
    }
   ],
   "source": [
    "print(cat)"
   ]
  },
  {
   "cell_type": "markdown",
   "metadata": {},
   "source": [
    "# IMPORTING MODULES\n",
    "\n",
    "A module is a file consisting of Python code. A module can define functions, classes and variables. A module can also include runnable code."
   ]
  },
  {
   "cell_type": "code",
   "execution_count": 112,
   "metadata": {},
   "outputs": [],
   "source": [
    "import numpy"
   ]
  },
  {
   "cell_type": "code",
   "execution_count": 113,
   "metadata": {},
   "outputs": [
    {
     "data": {
      "text/plain": [
       "array([1, 2, 3])"
      ]
     },
     "execution_count": 113,
     "metadata": {},
     "output_type": "execute_result"
    }
   ],
   "source": [
    "numpy.array([1,2,3])"
   ]
  },
  {
   "cell_type": "markdown",
   "metadata": {},
   "source": [
    "# Alias\n",
    "An alias is a a second name for a piece of data.\n",
    "Short words used instead of longer library names."
   ]
  },
  {
   "cell_type": "code",
   "execution_count": 114,
   "metadata": {},
   "outputs": [],
   "source": [
    "import numpy as np"
   ]
  },
  {
   "cell_type": "code",
   "execution_count": 115,
   "metadata": {},
   "outputs": [
    {
     "data": {
      "text/plain": [
       "array([1, 2, 3])"
      ]
     },
     "execution_count": 115,
     "metadata": {},
     "output_type": "execute_result"
    }
   ],
   "source": [
    "np.array([1,2,3])"
   ]
  }
 ],
 "metadata": {
  "colab": {
   "default_view": {},
   "name": "Python-Basics.ipynb",
   "provenance": [],
   "version": "0.3.2",
   "views": {}
  },
  "kernelspec": {
   "display_name": "Python 3",
   "language": "python",
   "name": "python3"
  },
  "language_info": {
   "codemirror_mode": {
    "name": "ipython",
    "version": 3
   },
   "file_extension": ".py",
   "mimetype": "text/x-python",
   "name": "python",
   "nbconvert_exporter": "python",
   "pygments_lexer": "ipython3",
   "version": "3.6.4"
  }
 },
 "nbformat": 4,
 "nbformat_minor": 1
}
