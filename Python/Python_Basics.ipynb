{
 "cells": [
  {
   "cell_type": "markdown",
   "metadata": {
    "colab_type": "text",
    "id": "T7QHqZuL2nVI"
   },
   "source": [
    "# Python Basics"
   ]
  },
  {
   "cell_type": "markdown",
   "metadata": {
    "colab_type": "text",
    "id": "lD6tWdWK2nVR"
   },
   "source": [
    "## Printing\n",
    "Printing can be done by using **print** followed by the entity to print."
   ]
  },
  {
   "cell_type": "code",
   "execution_count": 1,
   "metadata": {
    "colab": {
     "autoexec": {
      "startup": false,
      "wait_interval": 0
     },
     "base_uri": "https://localhost:8080/",
     "height": 119
    },
    "colab_type": "code",
    "executionInfo": {
     "elapsed": 7832,
     "status": "ok",
     "timestamp": 1525235538285,
     "user": {
      "displayName": "Nama Budda",
      "photoUrl": "//lh3.googleusercontent.com/-bs8EIri6whU/AAAAAAAAAAI/AAAAAAAAFOA/2worzW5Poi0/s50-c-k-no/photo.jpg",
      "userId": "103954825905713429993"
     },
     "user_tz": -345
    },
    "id": "TKlR-wy52nVX",
    "outputId": "921e3177-1a55-4b7e-f645-5d8af7b1dede",
    "scrolled": true
   },
   "outputs": [
    {
     "name": "stdout",
     "output_type": "stream",
     "text": [
      "5\n",
      "Hello World\n",
      "True\n"
     ]
    }
   ],
   "source": [
    "print(5)\n",
    "print('Hello World')\n",
    "print(True)"
   ]
  },
  {
   "cell_type": "markdown",
   "metadata": {},
   "source": [
    "If you want to print multiple items in same line, you can use a comma **,**."
   ]
  },
  {
   "cell_type": "code",
   "execution_count": 2,
   "metadata": {},
   "outputs": [
    {
     "name": "stdout",
     "output_type": "stream",
     "text": [
      "5 7 15 a\n"
     ]
    }
   ],
   "source": [
    "print(5, 7, 15, \"a\")"
   ]
  },
  {
   "cell_type": "markdown",
   "metadata": {
    "colab_type": "text",
    "id": "PS9GKsLq2nV2"
   },
   "source": [
    "## Variable Naming\n",
    "Variables are entities or location used to store values of any kind.  Are \n",
    "* Can begin with alphabets a-z or A-Z or _\n",
    "* Can contain numbers but not as the first letter\n",
    "* Are case-sensitive  \n",
    "\n",
    "*There are some **keywords** reserved in python which should not be used such as **print**, **type**, **in**, **sum**, **len**. If they are used as variable names, the program might not function properly.*"
   ]
  },
  {
   "cell_type": "code",
   "execution_count": 3,
   "metadata": {
    "colab": {
     "autoexec": {
      "startup": false,
      "wait_interval": 0
     },
     "base_uri": "https://localhost:8080/",
     "height": 119
    },
    "colab_type": "code",
    "collapsed": true,
    "executionInfo": {
     "elapsed": 954,
     "status": "ok",
     "timestamp": 1525235549794,
     "user": {
      "displayName": "Nama Budda",
      "photoUrl": "//lh3.googleusercontent.com/-bs8EIri6whU/AAAAAAAAAAI/AAAAAAAAFOA/2worzW5Poi0/s50-c-k-no/photo.jpg",
      "userId": "103954825905713429993"
     },
     "user_tz": -345
    },
    "id": "hCbnOL172nV3",
    "outputId": "7cffdcfa-84d9-4ac0-e54a-6b01e107cce3"
   },
   "outputs": [],
   "source": [
    "a = 1\n",
    "A = 13\n",
    "_a1 = 5\n",
    "x_y = 10\n",
    "b = 'apples'"
   ]
  },
  {
   "cell_type": "code",
   "execution_count": 4,
   "metadata": {
    "scrolled": false
   },
   "outputs": [
    {
     "name": "stdout",
     "output_type": "stream",
     "text": [
      "1\n",
      "13\n"
     ]
    }
   ],
   "source": [
    "print(a)\n",
    "print(A)\n",
    " "
   ]
  },
  {
   "cell_type": "markdown",
   "metadata": {},
   "source": [
    "## Functions\n",
    "Properties of Functions in python:\n",
    "* Named entities\n",
    "* Perform specific tasks\n",
    "* Operate on 0, 1 or more values/variables\n",
    "* Can be called using their name followed by small brackets **()**\n",
    "* Follow the same naming convention as variables\n",
    "* Are defined using the keyword **def**\n",
    "* May or may not return 1 or more values\n",
    "* Use keyword **return** to return values\n",
    "* Do not use curly brackets or semicolon like in other languages\n",
    "* Use indentation to separate blocks\n",
    "\n",
    "*P.S. Do not forget the colon **:** in the end of the line in which def keyword is used.*"
   ]
  },
  {
   "cell_type": "markdown",
   "metadata": {},
   "source": [
    "Function with no parameters"
   ]
  },
  {
   "cell_type": "code",
   "execution_count": 5,
   "metadata": {
    "collapsed": true
   },
   "outputs": [],
   "source": [
    "def abc():\n",
    "    print(10)"
   ]
  },
  {
   "cell_type": "code",
   "execution_count": 6,
   "metadata": {},
   "outputs": [
    {
     "name": "stdout",
     "output_type": "stream",
     "text": [
      "10\n"
     ]
    }
   ],
   "source": [
    "abc()"
   ]
  },
  {
   "cell_type": "markdown",
   "metadata": {},
   "source": [
    "Function with 2 parameters"
   ]
  },
  {
   "cell_type": "code",
   "execution_count": 7,
   "metadata": {
    "collapsed": true
   },
   "outputs": [],
   "source": [
    "def f(a, b):\n",
    "    c = a + b\n",
    "    print(c)"
   ]
  },
  {
   "cell_type": "code",
   "execution_count": 8,
   "metadata": {},
   "outputs": [
    {
     "name": "stdout",
     "output_type": "stream",
     "text": [
      "15\n"
     ]
    }
   ],
   "source": [
    "f(10, 5)"
   ]
  },
  {
   "cell_type": "markdown",
   "metadata": {},
   "source": [
    "Function with 1 parameter that returns 3 values"
   ]
  },
  {
   "cell_type": "code",
   "execution_count": 9,
   "metadata": {
    "collapsed": true
   },
   "outputs": [],
   "source": [
    "def g(x):\n",
    "    return x, 2, 3"
   ]
  },
  {
   "cell_type": "code",
   "execution_count": 10,
   "metadata": {},
   "outputs": [
    {
     "data": {
      "text/plain": [
       "(8, 2, 3)"
      ]
     },
     "execution_count": 10,
     "metadata": {},
     "output_type": "execute_result"
    }
   ],
   "source": [
    "g(8)"
   ]
  },
  {
   "cell_type": "code",
   "execution_count": 14,
   "metadata": {
    "colab": {
     "autoexec": {
      "startup": false,
      "wait_interval": 0
     }
    },
    "colab_type": "code",
    "id": "nxGH4X802nXI",
    "outputId": "72759464-f0aa-4056-ee71-ae0bd88797a5"
   },
   "outputs": [
    {
     "name": "stdout",
     "output_type": "stream",
     "text": [
      "3\n"
     ]
    }
   ],
   "source": [
    "def add_numbers(a, b):\n",
    "    return a + b\n",
    "s = add_numbers(1, 2)\n",
    "print(s)"
   ]
  },
  {
   "cell_type": "markdown",
   "metadata": {},
   "source": [
    "The variables used inside the functions are specific to that function and cannot be accessed outside without special cases."
   ]
  },
  {
   "cell_type": "markdown",
   "metadata": {},
   "source": [
    "## Variable Types\n",
    "In python, there are many variable types. They include:\n",
    "* int \n",
    "    * *7*\n",
    "* str \n",
    "    * *\"Hello\"*\n",
    "    * 'Wow'\n",
    "* float \n",
    "    * *3.123*\n",
    "* boolean \n",
    "    * False*\n",
    "* list \n",
    "    * *[2, 5, 10, 15]*\n",
    "* dictionary \n",
    "    * *{ \"fruit\" : \"apple\",   \n",
    "    \"qty\" : 1}*\n",
    "\n",
    "The type is auto assigned when assigning values to the variable. To know the type of variable use **type** function."
   ]
  },
  {
   "cell_type": "code",
   "execution_count": 15,
   "metadata": {
    "collapsed": true
   },
   "outputs": [],
   "source": [
    "def p_type(a):\n",
    "    print(a)\n",
    "    print(\"The type of \", a, \" is \", type(a))"
   ]
  },
  {
   "cell_type": "code",
   "execution_count": 16,
   "metadata": {},
   "outputs": [
    {
     "name": "stdout",
     "output_type": "stream",
     "text": [
      "5\n",
      "The type of  5  is  <class 'int'>\n"
     ]
    }
   ],
   "source": [
    "a = 5\n",
    "p_type(a)"
   ]
  },
  {
   "cell_type": "code",
   "execution_count": 17,
   "metadata": {},
   "outputs": [
    {
     "name": "stdout",
     "output_type": "stream",
     "text": [
      "1.5\n",
      "The type of  1.5  is  <class 'float'>\n"
     ]
    }
   ],
   "source": [
    "b = 1.5\n",
    "p_type(b)"
   ]
  },
  {
   "cell_type": "code",
   "execution_count": 18,
   "metadata": {},
   "outputs": [
    {
     "name": "stdout",
     "output_type": "stream",
     "text": [
      "Write anything!\n",
      "The type of  Write anything!  is  <class 'str'>\n"
     ]
    }
   ],
   "source": [
    "p_type(\"Write anything!\")"
   ]
  },
  {
   "cell_type": "code",
   "execution_count": 19,
   "metadata": {
    "scrolled": true
   },
   "outputs": [
    {
     "name": "stdout",
     "output_type": "stream",
     "text": [
      "True\n",
      "The type of  True  is  <class 'bool'>\n"
     ]
    }
   ],
   "source": [
    "c = True\n",
    "p_type(c)"
   ]
  },
  {
   "cell_type": "code",
   "execution_count": 20,
   "metadata": {},
   "outputs": [
    {
     "name": "stdout",
     "output_type": "stream",
     "text": [
      "[1, 2]\n",
      "The type of  [1, 2]  is  <class 'list'>\n"
     ]
    }
   ],
   "source": [
    "p_type([1, 2])"
   ]
  },
  {
   "cell_type": "code",
   "execution_count": 21,
   "metadata": {},
   "outputs": [
    {
     "name": "stdout",
     "output_type": "stream",
     "text": [
      "{'hello': 1, 'hi': 'a'}\n",
      "The type of  {'hello': 1, 'hi': 'a'}  is  <class 'dict'>\n"
     ]
    }
   ],
   "source": [
    "p_type({\"hello\": 1,\n",
    "       \"hi\": \"a\"})"
   ]
  },
  {
   "cell_type": "markdown",
   "metadata": {},
   "source": [
    "## String Operations\n",
    "* Strings can be added with strings\n",
    "* Strings can be multiplied by integers\n",
    "* Strings can be formatted using curly brackets **{}** and its function **format**"
   ]
  },
  {
   "cell_type": "code",
   "execution_count": 22,
   "metadata": {},
   "outputs": [
    {
     "data": {
      "text/plain": [
       "'abcdef'"
      ]
     },
     "execution_count": 22,
     "metadata": {},
     "output_type": "execute_result"
    }
   ],
   "source": [
    "\"abc\" + \"def\""
   ]
  },
  {
   "cell_type": "code",
   "execution_count": 23,
   "metadata": {
    "scrolled": true
   },
   "outputs": [
    {
     "data": {
      "text/plain": [
       "'abc abc abc '"
      ]
     },
     "execution_count": 23,
     "metadata": {},
     "output_type": "execute_result"
    }
   ],
   "source": [
    "\"abc \"*3"
   ]
  },
  {
   "cell_type": "code",
   "execution_count": 24,
   "metadata": {
    "colab": {
     "autoexec": {
      "startup": false,
      "wait_interval": 0
     },
     "base_uri": "https://localhost:8080/",
     "height": 34
    },
    "colab_type": "code",
    "executionInfo": {
     "elapsed": 880,
     "status": "ok",
     "timestamp": 1525227386686,
     "user": {
      "displayName": "Kiran Poudel",
      "photoUrl": "https://lh3.googleusercontent.com/a/default-user=s128",
      "userId": "100399137249051217878"
     },
     "user_tz": -345
    },
    "id": "y3mV_Xwr2nWb",
    "outputId": "186c5d75-d578-4cd7-beff-7a7662a5a02b"
   },
   "outputs": [
    {
     "name": "stdout",
     "output_type": "stream",
     "text": [
      "smoking is 2 bad\n"
     ]
    }
   ],
   "source": [
    "print('{} is {} {}'.format(\"smoking\", 2, \"bad\"))"
   ]
  },
  {
   "cell_type": "markdown",
   "metadata": {},
   "source": [
    "## Type Casting\n",
    "Variables can be converted to another type if they are compatible. This can be done using the keyword for respective types. Some keywords are:\n",
    "* String\n",
    "    * str\n",
    "* Integer\n",
    "    * int\n",
    "* Float\n",
    "    * float\n",
    "* List\n",
    "    * list  \n",
    "\n",
    "You can try doing this yourself later for more understanding."
   ]
  },
  {
   "cell_type": "code",
   "execution_count": 25,
   "metadata": {},
   "outputs": [
    {
     "name": "stdout",
     "output_type": "stream",
     "text": [
      "5\n",
      "The type of  5  is  <class 'int'>\n"
     ]
    }
   ],
   "source": [
    "p_type(5)"
   ]
  },
  {
   "cell_type": "code",
   "execution_count": 26,
   "metadata": {},
   "outputs": [
    {
     "name": "stdout",
     "output_type": "stream",
     "text": [
      "5\n",
      "The type of  5  is  <class 'str'>\n"
     ]
    }
   ],
   "source": [
    "p_type(str(5))"
   ]
  },
  {
   "cell_type": "code",
   "execution_count": 27,
   "metadata": {},
   "outputs": [
    {
     "ename": "TypeError",
     "evalue": "must be str, not int",
     "output_type": "error",
     "traceback": [
      "\u001b[0;31m---------------------------------------------------------------------------\u001b[0m",
      "\u001b[0;31mTypeError\u001b[0m                                 Traceback (most recent call last)",
      "\u001b[0;32m<ipython-input-27-9b336fba32f7>\u001b[0m in \u001b[0;36m<module>\u001b[0;34m()\u001b[0m\n\u001b[0;32m----> 1\u001b[0;31m \u001b[0;34m\"abc\"\u001b[0m \u001b[0;34m+\u001b[0m \u001b[0;36m1\u001b[0m\u001b[0;34m\u001b[0m\u001b[0m\n\u001b[0m",
      "\u001b[0;31mTypeError\u001b[0m: must be str, not int"
     ]
    }
   ],
   "source": [
    "\"abc\" + 1"
   ]
  },
  {
   "cell_type": "code",
   "execution_count": null,
   "metadata": {
    "collapsed": true
   },
   "outputs": [],
   "source": [
    "\"abc\" + str(1)"
   ]
  },
  {
   "cell_type": "markdown",
   "metadata": {},
   "source": [
    "## Comparators\n",
    "* Equal to\n",
    "    * ==\n",
    "* Not equal to\n",
    "    * !=\n",
    "* Less than\n",
    "    * <\n",
    "* Greater than\n",
    "    * >\n",
    "* Less than or equal to\n",
    "    * <=\n",
    "* Greater than or equal to\n",
    "    * \\>=\n",
    "They return boolean values."
   ]
  },
  {
   "cell_type": "code",
   "execution_count": 70,
   "metadata": {
    "colab": {
     "autoexec": {
      "startup": false,
      "wait_interval": 0
     },
     "base_uri": "https://localhost:8080/",
     "height": 68
    },
    "colab_type": "code",
    "executionInfo": {
     "elapsed": 898,
     "status": "ok",
     "timestamp": 1525227380322,
     "user": {
      "displayName": "Kiran Poudel",
      "photoUrl": "https://lh3.googleusercontent.com/a/default-user=s128",
      "userId": "100399137249051217878"
     },
     "user_tz": -345
    },
    "id": "zSsJ3L7k2nWT",
    "outputId": "0f8641b1-29a4-4196-a36d-5c4ef404ce08"
   },
   "outputs": [
    {
     "data": {
      "text/plain": [
       "True"
      ]
     },
     "execution_count": 70,
     "metadata": {},
     "output_type": "execute_result"
    }
   ],
   "source": [
    "2 != 3"
   ]
  },
  {
   "cell_type": "code",
   "execution_count": 71,
   "metadata": {},
   "outputs": [
    {
     "data": {
      "text/plain": [
       "False"
      ]
     },
     "execution_count": 71,
     "metadata": {},
     "output_type": "execute_result"
    }
   ],
   "source": [
    "2 == 3"
   ]
  },
  {
   "cell_type": "code",
   "execution_count": 72,
   "metadata": {},
   "outputs": [
    {
     "data": {
      "text/plain": [
       "True"
      ]
     },
     "execution_count": 72,
     "metadata": {},
     "output_type": "execute_result"
    }
   ],
   "source": [
    "7 >= 5"
   ]
  },
  {
   "cell_type": "code",
   "execution_count": 73,
   "metadata": {},
   "outputs": [
    {
     "data": {
      "text/plain": [
       "True"
      ]
     },
     "execution_count": 73,
     "metadata": {},
     "output_type": "execute_result"
    }
   ],
   "source": [
    "7 >= 7"
   ]
  },
  {
   "cell_type": "markdown",
   "metadata": {
    "colab_type": "text",
    "id": "ToVPyDZ12nWk"
   },
   "source": [
    "## Flow Control\n",
    "*Do not forget colon **:** a the end of the conditional lines.*"
   ]
  },
  {
   "cell_type": "markdown",
   "metadata": {
    "colab_type": "text",
    "id": "RWfjEpu72nWl"
   },
   "source": [
    "### Conditions\n",
    "* if\n",
    "* if ... else\n",
    "* if ... elif\n",
    "* if ... elif ... else"
   ]
  },
  {
   "cell_type": "code",
   "execution_count": 29,
   "metadata": {
    "colab": {
     "autoexec": {
      "startup": false,
      "wait_interval": 0
     },
     "base_uri": "https://localhost:8080/",
     "height": 34
    },
    "colab_type": "code",
    "collapsed": true,
    "executionInfo": {
     "elapsed": 948,
     "status": "ok",
     "timestamp": 1525235560860,
     "user": {
      "displayName": "Nama Budda",
      "photoUrl": "//lh3.googleusercontent.com/-bs8EIri6whU/AAAAAAAAAAI/AAAAAAAAFOA/2worzW5Poi0/s50-c-k-no/photo.jpg",
      "userId": "103954825905713429993"
     },
     "user_tz": -345
    },
    "id": "fkAnBNj62nWn",
    "outputId": "82b046a4-7ae2-4c50-9dc1-e0d7719d44cd"
   },
   "outputs": [],
   "source": [
    "def rel(a, c):\n",
    "    if a == c:\n",
    "        print(\"Equal\")\n",
    "    elif a > c:\n",
    "        print(\"Greater\")\n",
    "    else:\n",
    "        print(\"Less\")"
   ]
  },
  {
   "cell_type": "code",
   "execution_count": 30,
   "metadata": {},
   "outputs": [
    {
     "name": "stdout",
     "output_type": "stream",
     "text": [
      "Less\n"
     ]
    }
   ],
   "source": [
    "rel(1, 2)"
   ]
  },
  {
   "cell_type": "code",
   "execution_count": 31,
   "metadata": {},
   "outputs": [
    {
     "name": "stdout",
     "output_type": "stream",
     "text": [
      "Equal\n"
     ]
    }
   ],
   "source": [
    "rel(1, 1)"
   ]
  },
  {
   "cell_type": "code",
   "execution_count": 32,
   "metadata": {},
   "outputs": [
    {
     "name": "stdout",
     "output_type": "stream",
     "text": [
      "Greater\n"
     ]
    }
   ],
   "source": [
    "rel(2, 1)"
   ]
  },
  {
   "cell_type": "markdown",
   "metadata": {
    "colab_type": "text",
    "id": "tDxwu71W2nW1"
   },
   "source": [
    "### while loop"
   ]
  },
  {
   "cell_type": "code",
   "execution_count": 33,
   "metadata": {
    "colab": {
     "autoexec": {
      "startup": false,
      "wait_interval": 0
     },
     "base_uri": "https://localhost:8080/",
     "height": 102
    },
    "colab_type": "code",
    "executionInfo": {
     "elapsed": 983,
     "status": "ok",
     "timestamp": 1525235570472,
     "user": {
      "displayName": "Nama Budda",
      "photoUrl": "//lh3.googleusercontent.com/-bs8EIri6whU/AAAAAAAAAAI/AAAAAAAAFOA/2worzW5Poi0/s50-c-k-no/photo.jpg",
      "userId": "103954825905713429993"
     },
     "user_tz": -345
    },
    "id": "IzThOM_O2nW4",
    "outputId": "e3b769d4-08ef-418b-a7fb-b2ebdab85031"
   },
   "outputs": [
    {
     "name": "stdout",
     "output_type": "stream",
     "text": [
      "0\n",
      "1\n",
      "2\n",
      "3\n",
      "4\n",
      "5\n",
      "6\n",
      "7\n",
      "8\n",
      "9\n"
     ]
    }
   ],
   "source": [
    "w = 0\n",
    "while w != 10:\n",
    "    print(w)\n",
    "    w = w + 1"
   ]
  },
  {
   "cell_type": "markdown",
   "metadata": {
    "colab_type": "text",
    "id": "iTZDBibA2nW5"
   },
   "source": [
    "### for loop\n",
    "Iterate over the specified iterator types of items such as lists and dictionaries."
   ]
  },
  {
   "cell_type": "code",
   "execution_count": 34,
   "metadata": {},
   "outputs": [
    {
     "name": "stdout",
     "output_type": "stream",
     "text": [
      "1\n",
      "2\n",
      "3\n"
     ]
    }
   ],
   "source": [
    "for i in [1, 2, 3]:\n",
    "    print(i)"
   ]
  },
  {
   "cell_type": "markdown",
   "metadata": {},
   "source": [
    "*Note: range(x) gives an iterator from 0 to x-1*  "
   ]
  },
  {
   "cell_type": "code",
   "execution_count": 35,
   "metadata": {
    "colab": {
     "autoexec": {
      "startup": false,
      "wait_interval": 0
     }
    },
    "colab_type": "code",
    "id": "UnXsFbTZ2nW6",
    "outputId": "5fdd462a-6e45-493c-e8a5-3b5250793d01"
   },
   "outputs": [
    {
     "name": "stdout",
     "output_type": "stream",
     "text": [
      "0\n",
      "1\n",
      "2\n",
      "3\n",
      "4\n"
     ]
    }
   ],
   "source": [
    "for i in range(5):\n",
    "    print(i)"
   ]
  },
  {
   "cell_type": "markdown",
   "metadata": {
    "colab": {
     "autoexec": {
      "startup": false,
      "wait_interval": 0
     },
     "base_uri": "https://localhost:8080/",
     "height": 34
    },
    "colab_type": "code",
    "executionInfo": {
     "elapsed": 880,
     "status": "ok",
     "timestamp": 1525227386686,
     "user": {
      "displayName": "Kiran Poudel",
      "photoUrl": "https://lh3.googleusercontent.com/a/default-user=s128",
      "userId": "100399137249051217878"
     },
     "user_tz": -345
    },
    "id": "y3mV_Xwr2nWb",
    "outputId": "186c5d75-d578-4cd7-beff-7a7662a5a02b"
   },
   "source": [
    "*Note: range(x, y, gap) gives an iterator from x to y with interval = gap. y is not included in output.*"
   ]
  },
  {
   "cell_type": "code",
   "execution_count": 36,
   "metadata": {
    "colab": {
     "autoexec": {
      "startup": false,
      "wait_interval": 0
     }
    },
    "colab_type": "code",
    "id": "V9DL0IbB2nW8",
    "outputId": "33d796e1-eede-4aa9-b0b3-bae8faf96b2f"
   },
   "outputs": [
    {
     "name": "stdout",
     "output_type": "stream",
     "text": [
      "10\n",
      "12\n",
      "14\n",
      "16\n",
      "18\n"
     ]
    }
   ],
   "source": [
    "for i in range(10, 20, 2):\n",
    "    print(i)"
   ]
  },
  {
   "cell_type": "code",
   "execution_count": 77,
   "metadata": {
    "colab": {
     "autoexec": {
      "startup": false,
      "wait_interval": 0
     }
    },
    "colab_type": "code",
    "id": "Cw3wursJ2nXB",
    "outputId": "b113bc0a-bb36-4b3a-83da-fa8f15a63ce5"
   },
   "outputs": [
    {
     "name": "stdout",
     "output_type": "stream",
     "text": [
      "6\n"
     ]
    }
   ],
   "source": [
    "total = 0\n",
    "for num in range(4):\n",
    "    total = total + num\n",
    "print(total)"
   ]
  },
  {
   "cell_type": "markdown",
   "metadata": {
    "colab_type": "text",
    "id": "CT4pRnFk2nXJ"
   },
   "source": [
    "## Lists\n",
    "Lists can contain multiple values, which makes it easier to write programs that handle large amounts of data. The values in the list do not need to be of same data type.  \n",
    "To create a list we use square brackets **[ ]** with comma **,** to separate the elements."
   ]
  },
  {
   "cell_type": "code",
   "execution_count": 38,
   "metadata": {
    "colab": {
     "autoexec": {
      "startup": false,
      "wait_interval": 0
     }
    },
    "colab_type": "code",
    "id": "e7_rxO_g2nXK",
    "outputId": "21da8bf8-8244-442a-adbd-78464362389f",
    "scrolled": true
   },
   "outputs": [
    {
     "data": {
      "text/plain": [
       "['hello', 3.1415, True, None, 42]"
      ]
     },
     "execution_count": 38,
     "metadata": {},
     "output_type": "execute_result"
    }
   ],
   "source": [
    "my_list = ['hello', 3.1415, True, None, 42]\n",
    "my_list"
   ]
  },
  {
   "cell_type": "code",
   "execution_count": 39,
   "metadata": {
    "scrolled": true
   },
   "outputs": [
    {
     "name": "stdout",
     "output_type": "stream",
     "text": [
      "['i', 'you', 'we', 'he', 'she', 'they']\n",
      "The type of  ['i', 'you', 'we', 'he', 'she', 'they']  is  <class 'list'>\n"
     ]
    }
   ],
   "source": [
    "pl = ['i', 'you', 'we', 'he', 'she', 'they']\n",
    "p_type(pl)"
   ]
  },
  {
   "cell_type": "markdown",
   "metadata": {},
   "source": [
    "### Length of lists\n",
    "The **length** of the list can be found using the **len** keyword."
   ]
  },
  {
   "cell_type": "code",
   "execution_count": 40,
   "metadata": {},
   "outputs": [
    {
     "data": {
      "text/plain": [
       "6"
      ]
     },
     "execution_count": 40,
     "metadata": {},
     "output_type": "execute_result"
    }
   ],
   "source": [
    "len(pl)"
   ]
  },
  {
   "cell_type": "markdown",
   "metadata": {},
   "source": [
    "### Indexing\n",
    "Elements of lists can be selected using their index i.e. position from the beginning in the list. Unlike functions, indexing requires square brackets **[ ]**.  \n",
    "*In python, the first index starts with 0.*"
   ]
  },
  {
   "cell_type": "code",
   "execution_count": 41,
   "metadata": {},
   "outputs": [
    {
     "data": {
      "text/plain": [
       "['i', 'you', 'we', 'he', 'she', 'they']"
      ]
     },
     "execution_count": 41,
     "metadata": {},
     "output_type": "execute_result"
    }
   ],
   "source": [
    "pl"
   ]
  },
  {
   "cell_type": "code",
   "execution_count": 42,
   "metadata": {
    "scrolled": true
   },
   "outputs": [
    {
     "data": {
      "text/plain": [
       "'i'"
      ]
     },
     "execution_count": 42,
     "metadata": {},
     "output_type": "execute_result"
    }
   ],
   "source": [
    "pl[0]"
   ]
  },
  {
   "cell_type": "code",
   "execution_count": 43,
   "metadata": {
    "colab": {
     "autoexec": {
      "startup": false,
      "wait_interval": 0
     }
    },
    "colab_type": "code",
    "id": "7coBEWsV2nXM",
    "outputId": "76a881c5-1187-47dd-b310-7f8dd8582696",
    "scrolled": false
   },
   "outputs": [
    {
     "data": {
      "text/plain": [
       "'you'"
      ]
     },
     "execution_count": 43,
     "metadata": {},
     "output_type": "execute_result"
    }
   ],
   "source": [
    "pl[1]"
   ]
  },
  {
   "cell_type": "markdown",
   "metadata": {},
   "source": [
    "Similarly, indexing can be done from the last as well. In this case, the last index is -1, the second last index -2 and so on."
   ]
  },
  {
   "cell_type": "code",
   "execution_count": 44,
   "metadata": {
    "colab": {
     "autoexec": {
      "startup": false,
      "wait_interval": 0
     }
    },
    "colab_type": "code",
    "id": "cHA7b7Q_2nXN",
    "outputId": "7203967d-a799-4ab4-d477-48de6b8bf069"
   },
   "outputs": [
    {
     "data": {
      "text/plain": [
       "'they'"
      ]
     },
     "execution_count": 44,
     "metadata": {},
     "output_type": "execute_result"
    }
   ],
   "source": [
    "pl[-1]"
   ]
  },
  {
   "cell_type": "markdown",
   "metadata": {
    "colab_type": "text",
    "id": "PFijxB3k2nXW"
   },
   "source": [
    "### Slicing\n",
    "Slicing can be done using a colon **:** with the starting index in front of it and the ending index after the colon.  \n",
    "*Note : The ending index is not included in the output.*"
   ]
  },
  {
   "cell_type": "code",
   "execution_count": 45,
   "metadata": {},
   "outputs": [
    {
     "data": {
      "text/plain": [
       "['i', 'you', 'we', 'he', 'she', 'they']"
      ]
     },
     "execution_count": 45,
     "metadata": {},
     "output_type": "execute_result"
    }
   ],
   "source": [
    "pl"
   ]
  },
  {
   "cell_type": "markdown",
   "metadata": {},
   "source": [
    "Taking elements from 0 index to 3-1=2 index."
   ]
  },
  {
   "cell_type": "code",
   "execution_count": 46,
   "metadata": {
    "colab": {
     "autoexec": {
      "startup": false,
      "wait_interval": 0
     }
    },
    "colab_type": "code",
    "id": "6avqbM3b2nXX",
    "outputId": "1b8df06f-bf0b-40df-9e14-66b9503f9c2e"
   },
   "outputs": [
    {
     "data": {
      "text/plain": [
       "['i', 'you', 'we']"
      ]
     },
     "execution_count": 46,
     "metadata": {},
     "output_type": "execute_result"
    }
   ],
   "source": [
    "pl[0:3]"
   ]
  },
  {
   "cell_type": "markdown",
   "metadata": {},
   "source": [
    "We can take the list in reverse in the following way."
   ]
  },
  {
   "cell_type": "code",
   "execution_count": 47,
   "metadata": {
    "colab": {
     "autoexec": {
      "startup": false,
      "wait_interval": 0
     }
    },
    "colab_type": "code",
    "id": "hN8HWQWf2nXc",
    "outputId": "d006e52c-9c2f-46c7-f00c-7867346e55be"
   },
   "outputs": [
    {
     "data": {
      "text/plain": [
       "['they', 'she', 'he', 'we', 'you', 'i']"
      ]
     },
     "execution_count": 47,
     "metadata": {},
     "output_type": "execute_result"
    }
   ],
   "source": [
    "pl[::-1]"
   ]
  },
  {
   "cell_type": "markdown",
   "metadata": {},
   "source": [
    "We can also take indices with specific gap similar to in range.  \n",
    "*Again, the last index is not included in the output.*"
   ]
  },
  {
   "cell_type": "code",
   "execution_count": 48,
   "metadata": {},
   "outputs": [
    {
     "data": {
      "text/plain": [
       "['i', 'we', 'she']"
      ]
     },
     "execution_count": 48,
     "metadata": {},
     "output_type": "execute_result"
    }
   ],
   "source": [
    "pl[0:6:2]"
   ]
  },
  {
   "cell_type": "code",
   "execution_count": 49,
   "metadata": {
    "colab": {
     "autoexec": {
      "startup": false,
      "wait_interval": 0
     }
    },
    "colab_type": "code",
    "id": "Rgitxaiv2nXd",
    "outputId": "da3b3bc3-5b3d-4981-be99-8338efd982e2"
   },
   "outputs": [
    {
     "data": {
      "text/plain": [
       "['i', 'new', 'we', 'he', 'she', 'they']"
      ]
     },
     "execution_count": 49,
     "metadata": {},
     "output_type": "execute_result"
    }
   ],
   "source": [
    "pl[1] = \"new\"\n",
    "pl"
   ]
  },
  {
   "cell_type": "markdown",
   "metadata": {},
   "source": [
    "## Tuple\n",
    "To create a list we use square brackets **[ ]** with comma **,** to separate the elements.  \n",
    "The indexing/slicing is exactly same in tuple as in list."
   ]
  },
  {
   "cell_type": "code",
   "execution_count": 50,
   "metadata": {},
   "outputs": [
    {
     "data": {
      "text/plain": [
       "(1, 2, 3)"
      ]
     },
     "execution_count": 50,
     "metadata": {},
     "output_type": "execute_result"
    }
   ],
   "source": [
    "tpl = (1, 2, 3)\n",
    "tpl"
   ]
  },
  {
   "cell_type": "code",
   "execution_count": 51,
   "metadata": {},
   "outputs": [
    {
     "data": {
      "text/plain": [
       "('i', 'new', 'we', 'he', 'she', 'they')"
      ]
     },
     "execution_count": 51,
     "metadata": {},
     "output_type": "execute_result"
    }
   ],
   "source": [
    "tpl = tuple(pl)\n",
    "tpl"
   ]
  },
  {
   "cell_type": "code",
   "execution_count": 52,
   "metadata": {},
   "outputs": [
    {
     "data": {
      "text/plain": [
       "'i'"
      ]
     },
     "execution_count": 52,
     "metadata": {},
     "output_type": "execute_result"
    }
   ],
   "source": [
    "tpl[0]"
   ]
  },
  {
   "cell_type": "code",
   "execution_count": 53,
   "metadata": {},
   "outputs": [
    {
     "data": {
      "text/plain": [
       "('i', 'we', 'she')"
      ]
     },
     "execution_count": 53,
     "metadata": {},
     "output_type": "execute_result"
    }
   ],
   "source": [
    "tpl[0:6:2]"
   ]
  },
  {
   "cell_type": "markdown",
   "metadata": {},
   "source": [
    "## Mutable vs Immutable\n",
    "The difference between lists and tuples is the fact that lists are mutable while tuples are immutable.  \n",
    "To understand it clearly, at a higher level, we can say that mutable objects are the ones that can be changed while immutable objects are the ones that cannot be changed after assignment.  \n",
    "\n",
    "You can read more about it [here](https://medium.com/@meghamohan/mutable-and-immutable-side-of-python-c2145cf72747)."
   ]
  },
  {
   "cell_type": "markdown",
   "metadata": {},
   "source": [
    "Lists --> Mutable"
   ]
  },
  {
   "cell_type": "code",
   "execution_count": 54,
   "metadata": {},
   "outputs": [
    {
     "data": {
      "text/plain": [
       "['i', 'new', 'we', 'he', 'she', 'they']"
      ]
     },
     "execution_count": 54,
     "metadata": {},
     "output_type": "execute_result"
    }
   ],
   "source": [
    "pl"
   ]
  },
  {
   "cell_type": "code",
   "execution_count": 55,
   "metadata": {
    "scrolled": true
   },
   "outputs": [
    {
     "data": {
      "text/plain": [
       "['new', 'new', 'we', 'he', 'she', 'they']"
      ]
     },
     "execution_count": 55,
     "metadata": {},
     "output_type": "execute_result"
    }
   ],
   "source": [
    "pl[0] = \"new\"\n",
    "pl"
   ]
  },
  {
   "cell_type": "markdown",
   "metadata": {},
   "source": [
    "Tuples --> Immutable"
   ]
  },
  {
   "cell_type": "code",
   "execution_count": 56,
   "metadata": {},
   "outputs": [
    {
     "data": {
      "text/plain": [
       "('i', 'new', 'we', 'he', 'she', 'they')"
      ]
     },
     "execution_count": 56,
     "metadata": {},
     "output_type": "execute_result"
    }
   ],
   "source": [
    "tpl"
   ]
  },
  {
   "cell_type": "code",
   "execution_count": 57,
   "metadata": {},
   "outputs": [
    {
     "ename": "TypeError",
     "evalue": "'tuple' object does not support item assignment",
     "output_type": "error",
     "traceback": [
      "\u001b[0;31m---------------------------------------------------------------------------\u001b[0m",
      "\u001b[0;31mTypeError\u001b[0m                                 Traceback (most recent call last)",
      "\u001b[0;32m<ipython-input-57-8d664f449449>\u001b[0m in \u001b[0;36m<module>\u001b[0;34m()\u001b[0m\n\u001b[0;32m----> 1\u001b[0;31m \u001b[0mtpl\u001b[0m\u001b[0;34m[\u001b[0m\u001b[0;36m0\u001b[0m\u001b[0;34m]\u001b[0m \u001b[0;34m=\u001b[0m \u001b[0;34m\"new\"\u001b[0m\u001b[0;34m\u001b[0m\u001b[0m\n\u001b[0m",
      "\u001b[0;31mTypeError\u001b[0m: 'tuple' object does not support item assignment"
     ]
    }
   ],
   "source": [
    "tpl[0] = \"new\""
   ]
  },
  {
   "cell_type": "markdown",
   "metadata": {
    "colab_type": "text",
    "id": "DROkpZQ72nXk"
   },
   "source": [
    "### Concatenate\n",
    "We can add two or more lists.\n",
    "We can also add two or more tuples.\n",
    "Tuples and lists however, cannot be added"
   ]
  },
  {
   "cell_type": "code",
   "execution_count": 58,
   "metadata": {
    "colab": {
     "autoexec": {
      "startup": false,
      "wait_interval": 0
     }
    },
    "colab_type": "code",
    "id": "hRKM0Qdh2nXk",
    "outputId": "7fa78358-1ba7-42c6-e7b1-95aea5e48be1"
   },
   "outputs": [
    {
     "name": "stdout",
     "output_type": "stream",
     "text": [
      "['new', 'new', 'we', 'he', 'she', 'they', 'my', 'your', 'our']\n"
     ]
    }
   ],
   "source": [
    "pl_2 = ['my', 'your', 'our']\n",
    "print(pl+pl_2)"
   ]
  },
  {
   "cell_type": "code",
   "execution_count": 59,
   "metadata": {},
   "outputs": [
    {
     "name": "stdout",
     "output_type": "stream",
     "text": [
      "('i', 'new', 'we', 'he', 'she', 'they', 'my', 'your', 'our')\n"
     ]
    }
   ],
   "source": [
    "tpl_2 = tuple(pl_2)\n",
    "print(tpl+tpl_2)"
   ]
  },
  {
   "cell_type": "code",
   "execution_count": 60,
   "metadata": {},
   "outputs": [
    {
     "ename": "TypeError",
     "evalue": "can only concatenate tuple (not \"list\") to tuple",
     "output_type": "error",
     "traceback": [
      "\u001b[0;31m---------------------------------------------------------------------------\u001b[0m",
      "\u001b[0;31mTypeError\u001b[0m                                 Traceback (most recent call last)",
      "\u001b[0;32m<ipython-input-60-afe43a6cadb3>\u001b[0m in \u001b[0;36m<module>\u001b[0;34m()\u001b[0m\n\u001b[0;32m----> 1\u001b[0;31m \u001b[0mprint\u001b[0m\u001b[0;34m(\u001b[0m\u001b[0mtpl\u001b[0m\u001b[0;34m+\u001b[0m\u001b[0mpl\u001b[0m\u001b[0;34m)\u001b[0m\u001b[0;34m\u001b[0m\u001b[0m\n\u001b[0m",
      "\u001b[0;31mTypeError\u001b[0m: can only concatenate tuple (not \"list\") to tuple"
     ]
    }
   ],
   "source": [
    "print(tpl+pl)"
   ]
  },
  {
   "cell_type": "markdown",
   "metadata": {},
   "source": [
    "### Append\n",
    "An item can be appended at the end of a list using the **append** method."
   ]
  },
  {
   "cell_type": "code",
   "execution_count": 61,
   "metadata": {
    "colab": {
     "autoexec": {
      "startup": false,
      "wait_interval": 0
     }
    },
    "colab_type": "code",
    "id": "xgKHICya2nXn",
    "outputId": "2235cd15-accc-45b0-ec9e-c40d4c6caa4f"
   },
   "outputs": [
    {
     "data": {
      "text/plain": [
       "['new', 'new', 'we', 'he', 'she', 'they', 'naya']"
      ]
     },
     "execution_count": 61,
     "metadata": {},
     "output_type": "execute_result"
    }
   ],
   "source": [
    "pl.append('naya')\n",
    "pl"
   ]
  },
  {
   "cell_type": "markdown",
   "metadata": {
    "colab_type": "text",
    "id": "DKutFRtf2nX2"
   },
   "source": [
    "## Dictionary\n",
    "Dictionaries are variables with **key** and **value** pairs.  \n",
    "The values can be any variables. But the keys must be immutable."
   ]
  },
  {
   "cell_type": "code",
   "execution_count": 62,
   "metadata": {
    "colab": {
     "autoexec": {
      "startup": false,
      "wait_interval": 0
     },
     "base_uri": "https://localhost:8080/",
     "height": 34
    },
    "colab_type": "code",
    "executionInfo": {
     "elapsed": 23193,
     "status": "ok",
     "timestamp": 1525275724155,
     "user": {
      "displayName": "Summit Shrestha",
      "photoUrl": "//lh5.googleusercontent.com/-YYw8RFy1RK4/AAAAAAAAAAI/AAAAAAAAABQ/51JmToxRtUM/s50-c-k-no/photo.jpg",
      "userId": "110573915273242734570"
     },
     "user_tz": -345
    },
    "id": "hwPnB8GG2nX3",
    "outputId": "a7916ba0-14a8-4a79-f15b-c640db24eabd"
   },
   "outputs": [
    {
     "name": "stdout",
     "output_type": "stream",
     "text": [
      "{'body': 'fat', 'color': 'white', (1, 2): 'this is his id', 'meals': [3, 1, 2]}\n",
      "The type of  {'body': 'fat', 'color': 'white', (1, 2): 'this is his id', 'meals': [3, 1, 2]}  is  <class 'dict'>\n"
     ]
    }
   ],
   "source": [
    "cat = {'body': 'fat', \n",
    "       'color': 'white',\n",
    "       (1, 2) : 'this is his id',\n",
    "       \"meals\": [3, 1, 2]}\n",
    "p_type(cat)"
   ]
  },
  {
   "cell_type": "markdown",
   "metadata": {},
   "source": [
    "### Indexing\n",
    "We use the key instead of index for accessing dictionary elements."
   ]
  },
  {
   "cell_type": "code",
   "execution_count": 63,
   "metadata": {
    "colab": {
     "autoexec": {
      "startup": false,
      "wait_interval": 0
     }
    },
    "colab_type": "code",
    "id": "2pLVt-ha2nX4",
    "outputId": "ae92db46-d4ea-4e60-fc3c-109f3f922fd5"
   },
   "outputs": [
    {
     "data": {
      "text/plain": [
       "'Cat has white fur.'"
      ]
     },
     "execution_count": 63,
     "metadata": {},
     "output_type": "execute_result"
    }
   ],
   "source": [
    "'Cat has ' + cat['color'] + ' fur.'"
   ]
  },
  {
   "cell_type": "markdown",
   "metadata": {},
   "source": [
    "### Keys and values"
   ]
  },
  {
   "cell_type": "code",
   "execution_count": 64,
   "metadata": {
    "colab": {
     "autoexec": {
      "startup": false,
      "wait_interval": 0
     },
     "base_uri": "https://localhost:8080/",
     "height": 68
    },
    "colab_type": "code",
    "executionInfo": {
     "elapsed": 925,
     "status": "ok",
     "timestamp": 1525275749661,
     "user": {
      "displayName": "Summit Shrestha",
      "photoUrl": "//lh5.googleusercontent.com/-YYw8RFy1RK4/AAAAAAAAAAI/AAAAAAAAABQ/51JmToxRtUM/s50-c-k-no/photo.jpg",
      "userId": "110573915273242734570"
     },
     "user_tz": -345
    },
    "id": "UdZwNlOW2nX8",
    "outputId": "1c8834ca-f44c-4c19-e7e8-821018a60e08"
   },
   "outputs": [
    {
     "name": "stdout",
     "output_type": "stream",
     "text": [
      "dict_keys(['body', 'color', (1, 2), 'meals'])\n",
      "dict_values(['fat', 'white', 'this is his id', [3, 1, 2]])\n"
     ]
    }
   ],
   "source": [
    "print(cat.keys())\n",
    "print(cat.values())"
   ]
  },
  {
   "cell_type": "markdown",
   "metadata": {},
   "source": [
    "### Dictionary Items\n",
    "The keys and values can be obtained in ordered set format."
   ]
  },
  {
   "cell_type": "code",
   "execution_count": 65,
   "metadata": {},
   "outputs": [
    {
     "name": "stdout",
     "output_type": "stream",
     "text": [
      "dict_items([('body', 'fat'), ('color', 'white'), ((1, 2), 'this is his id'), ('meals', [3, 1, 2])])\n"
     ]
    }
   ],
   "source": [
    "print(cat.items())"
   ]
  },
  {
   "cell_type": "code",
   "execution_count": 66,
   "metadata": {
    "colab": {
     "autoexec": {
      "startup": false,
      "wait_interval": 0
     }
    },
    "colab_type": "code",
    "id": "1d4o6Tau2nX9",
    "outputId": "b4f6c096-5322-451d-a16d-8bc7019eb546"
   },
   "outputs": [
    {
     "name": "stdout",
     "output_type": "stream",
     "text": [
      "Key : body ... Value : fat\n",
      "Key : color ... Value : white\n",
      "Key : (1, 2) ... Value : this is his id\n",
      "Key : meals ... Value : [3, 1, 2]\n"
     ]
    }
   ],
   "source": [
    "for k, v in cat.items():\n",
    "    print(\"Key : {} ... Value : {}\".format(k, v))"
   ]
  },
  {
   "cell_type": "markdown",
   "metadata": {},
   "source": [
    "### Updating dictionary\n",
    "Dictionary can be updated either using the **update** keyword. We can also assign new elements in the same way we do in lists but we need to use **keys** instead of indices."
   ]
  },
  {
   "cell_type": "code",
   "execution_count": 67,
   "metadata": {
    "colab": {
     "autoexec": {
      "startup": false,
      "wait_interval": 0
     }
    },
    "colab_type": "code",
    "id": "2f8gH73A2nYD",
    "outputId": "c847cabd-72ff-4ab9-bba9-f06e5a4c1073"
   },
   "outputs": [
    {
     "data": {
      "text/plain": [
       "{'body': 'fat',\n",
       " 'color': 'white',\n",
       " (1, 2): 'this is his id',\n",
       " 'meals': [3, 1, 2],\n",
       " 'eyes': 'blue'}"
      ]
     },
     "execution_count": 67,
     "metadata": {},
     "output_type": "execute_result"
    }
   ],
   "source": [
    "cat.update({'eyes': 'blue'})\n",
    "cat"
   ]
  },
  {
   "cell_type": "code",
   "execution_count": 68,
   "metadata": {},
   "outputs": [
    {
     "data": {
      "text/plain": [
       "{'body': 'fat',\n",
       " 'color': 'white',\n",
       " (1, 2): 'this is his id',\n",
       " 'meals': [3, 1, 2],\n",
       " 'eyes': 'blue',\n",
       " 'weight': 4}"
      ]
     },
     "execution_count": 68,
     "metadata": {},
     "output_type": "execute_result"
    }
   ],
   "source": [
    "cat['weight'] = 4\n",
    "cat"
   ]
  },
  {
   "cell_type": "markdown",
   "metadata": {
    "colab_type": "text",
    "id": "T3Z6pFNY2nYG"
   },
   "source": [
    "## Comprehensions\n",
    "For and if loops can be made concise and a little bit more efficient using list comprehensions."
   ]
  },
  {
   "cell_type": "code",
   "execution_count": 10,
   "metadata": {
    "colab": {
     "autoexec": {
      "startup": false,
      "wait_interval": 0
     },
     "base_uri": "https://localhost:8080/",
     "height": 34
    },
    "colab_type": "code",
    "executionInfo": {
     "elapsed": 1109,
     "status": "ok",
     "timestamp": 1525235608060,
     "user": {
      "displayName": "Nama Budda",
      "photoUrl": "//lh3.googleusercontent.com/-bs8EIri6whU/AAAAAAAAAAI/AAAAAAAAFOA/2worzW5Poi0/s50-c-k-no/photo.jpg",
      "userId": "103954825905713429993"
     },
     "user_tz": -345
    },
    "id": "Fe69rzE22nYG",
    "outputId": "2470d9c4-a779-46d0-ba21-677318238e5d"
   },
   "outputs": [
    {
     "name": "stdout",
     "output_type": "stream",
     "text": [
      "6\n"
     ]
    },
    {
     "data": {
      "text/plain": [
       "['AS', 'BAT', 'CAR', 'DOVE', 'PYTHON']"
      ]
     },
     "execution_count": 10,
     "metadata": {},
     "output_type": "execute_result"
    }
   ],
   "source": [
    "strings = ['a', 'as', 'bat', 'car', 'dove', 'python']\n",
    "print(len(strings))\n",
    "[x.upper() for x in strings if len(x) >= 2]"
   ]
  },
  {
   "cell_type": "code",
   "execution_count": null,
   "metadata": {
    "collapsed": true
   },
   "outputs": [],
   "source": []
  }
 ],
 "metadata": {
  "colab": {
   "default_view": {},
   "name": "Python-Basics.ipynb",
   "provenance": [],
   "version": "0.3.2",
   "views": {}
  },
  "kernelspec": {
   "display_name": "Python 3",
   "language": "python",
   "name": "python3"
  },
  "language_info": {
   "codemirror_mode": {
    "name": "ipython",
    "version": 3
   },
   "file_extension": ".py",
   "mimetype": "text/x-python",
   "name": "python",
   "nbconvert_exporter": "python",
   "pygments_lexer": "ipython3",
   "version": "3.7.1"
  }
 },
 "nbformat": 4,
 "nbformat_minor": 1
}
